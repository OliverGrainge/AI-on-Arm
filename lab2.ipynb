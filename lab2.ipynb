{
 "cells": [
  {
   "cell_type": "markdown",
   "metadata": {},
   "source": [
    "# **Lab 2: Optimizing Generative AI Workloads on Arm Server Processors**\n",
    "\n",
    "## **Introduction**\n",
    "\n",
    "Welcome to the second lab in our series on **Optimizing Generative AI Workloads with Arm Processors**! In this hands-on session, you will build on the concepts learned in Lab 1 by learning how to vectorize AI workloads efficiently with the powerful intrinsics of Arm Neoverse Cloud processors. These include:\n",
    "\n",
    "- **Neon** (for SIMD acceleration)\n",
    "- **DotProd** (dot product extension)\n",
    "- **I8MM** (integer matrix multiplication)\n",
    "\n",
    "We will learn about and utilize these intrinsics through the **KleidiAI library**, which provides optimized microkernels for matrix multiplication, the main workload of AI applications. You will also benchmark these kernels utilizing these different intrinsics to see their performance differences and compare the results to a benchmark library called **BLAS** which is the standard library for linear algebra routines. Beyond benchmarking, you will also integrate these optimized kernels into PyTorch to enable **quantized matrix multiplication**, and deploy your own highly optimized small language model on the Cloud with **4-bit** quantization. \n",
    "\n",
    "\n",
    "### **Lab Objectives**\n",
    "\n",
    "1. **Explore Advanced Arm Intrinsics**  \n",
    "   Gain a deeper understanding of CPU intrinsics and learn how the specific intrinsics provided by Arm Neoverse, including **DotProd**, **I8MM**, and **SVE**, enhance performance. Explore how these intrinsics, available in modern Arm architectures, are utilized to accelerate matrix multiplication operations.\n",
    "\n",
    "2. **Learn about the KleidiAI Library**  \n",
    "   Discover how KleidiAI implements these intrinsics in microkernels and why it can outperform traditional approaches in certain use cases.\n",
    "\n",
    "3. **Benchmark KleidiAI Against BLAS**  \n",
    "   Implement and benchmark KleidiAI microkernels using different intrinsics against the **BLAS** library to quantify performance benefits.\n",
    "\n",
    "4. **Quantize Matrix Multiplication in PyTorch**  \n",
    "   Integrate the KleidiAI kernels into PyTorch to perform quantized matrix multiplications, comparing performance, and accuracy trade-offs.\n",
    "\n",
    "5. **Implement and Evaluate 4-Bit Quantization**  \n",
    "   Apply **groupwise int4 quantization** to the **OpenELM-3B** model, measuring **latency** and **memory** improvements on an Arm Neoverse server.\n",
    "\n",
    "### **What you will learn**\n",
    "- Learn how the different **vector processing units** in the **Neoverse processor** can be used to accelerate matrix multiplication. \n",
    "- How to implement and use highly optimized **microkernels** written in assembly to accelerate matrix multiplication. \n",
    "- How to integrate these the above accelerations into PyTorch and use them for the **inference of a large language model on the Cloud**.\n",
    "\n",
    "### **Prerequisites**\n",
    "\n",
    "- **Basic Knowledge of Linux**: Comfortable working in a Linux terminal.\n",
    "- **C/C++ and Python Programming**: Familiarity with writing and compiling code.\n",
    "- **Matrix Multiplication**: Understanding of linear algebra basics.\n",
    "- **Completion of Lab 1 (Recommended)**: Familiarity with Neon vector instructions and quantization concepts.\n",
    "- **Completion of Chapter 2 and 4**: Familiarity with language models, and Arm's vector processing units will be useful.\n",
    "\n",
    "\n",
    "**By the end of this lab**, you will have hands-on experience combining low-level Arm intrinsics, specialized libraries, and quantization techniques to push the performance of large language models on Arm server processors. These skills will enable you to optimize generative AI workloads in both **resource-constrained** and **server-class** Arm environments.\n",
    "\n",
    "<br>\n",
    "\n",
    "---\n",
    "### **Target Hardware for This Lab**\n",
    "\n",
    "⚠️ **IMPORTANT:** This lab is designed to run on a **Cloud instance with an Arm Neoverse Server Processor** (e.g. AWS Graviton3 or Graviton4). The optimizations rely on advanced CPU features (**Neon**, **DotProd**, **I8MM**) that are not available on typical laptops or standard Cloud VMs.\n",
    "\n",
    "If you do not already have access to an appropriate Arm server:\n",
    "\n",
    "➡️ **Follow the setup instructions in `README.md` to provision a suitable Cloud instance** and configure your environment.\n",
    "\n",
    "✅ **Supported:**\n",
    "- AWS EC2 with Graviton3 (C7g, M7g, R7g) or Graviton4 (C8g, M8g, R8g)\n",
    "- Arm servers with Neoverse-N2, Neoverse-V1, or Neoverse-V2 cores\n",
    "\n",
    "<br>\n",
    "\n",
    "---\n",
    "\n",
    "#### This lab is intended to be run **on an Arm Neoverse Cloud instance**. If you are viewing this lab from your local machine, please first provision an appropriate instance following the `README.md` instructions.\n",
    "\n",
    "---\n",
    "\n",
    "<br>\n",
    "\n",
    "# 1. Explore Advanced Arm Intrinsics \n",
    "Before we dive into the Arm intrinsic features of Neoverse processors, let's start by preparing example inputs for a matrix multiplication. To make this example relevant to a real neural network, we'll identify and extract the largest matrix multiplication operation used by the OpenELM Large Language Model. This can be done by running the following cells. The first cell downloads the model from Hugging Face, and the second uses a feature of PyTorch, called model hooks, to extract an example activation matrix and the relevant weight matrix. \n"
   ]
  },
  {
   "cell_type": "code",
   "execution_count": 1,
   "metadata": {},
   "outputs": [
    {
     "name": "stderr",
     "output_type": "stream",
     "text": [
      "/home/ubuntu/AI-on-Arm/graviton_env/lib/python3.12/site-packages/huggingface_hub/file_download.py:945: FutureWarning: `resume_download` is deprecated and will be removed in version 1.0.0. Downloads always resume when possible. If you want to force a new download, use `force_download=True`.\n",
      "  warnings.warn(\n"
     ]
    },
    {
     "data": {
      "application/vnd.jupyter.widget-view+json": {
       "model_id": "0607b6fa423e4b4a9c06306de87d2055",
       "version_major": 2,
       "version_minor": 0
      },
      "text/plain": [
       "tokenizer_config.json:   0%|          | 0.00/776 [00:00<?, ?B/s]"
      ]
     },
     "metadata": {},
     "output_type": "display_data"
    },
    {
     "data": {
      "application/vnd.jupyter.widget-view+json": {
       "model_id": "a987b14fa4944d518f02a22b5b32a04e",
       "version_major": 2,
       "version_minor": 0
      },
      "text/plain": [
       "tokenizer.model:   0%|          | 0.00/500k [00:00<?, ?B/s]"
      ]
     },
     "metadata": {},
     "output_type": "display_data"
    },
    {
     "data": {
      "application/vnd.jupyter.widget-view+json": {
       "model_id": "d017e4d38b0a4d71af8056e5b9e4f171",
       "version_major": 2,
       "version_minor": 0
      },
      "text/plain": [
       "tokenizer.json:   0%|          | 0.00/1.84M [00:00<?, ?B/s]"
      ]
     },
     "metadata": {},
     "output_type": "display_data"
    },
    {
     "data": {
      "application/vnd.jupyter.widget-view+json": {
       "model_id": "e144a7363f6b4cc596a9cd941a14d8e5",
       "version_major": 2,
       "version_minor": 0
      },
      "text/plain": [
       "special_tokens_map.json:   0%|          | 0.00/414 [00:00<?, ?B/s]"
      ]
     },
     "metadata": {},
     "output_type": "display_data"
    },
    {
     "data": {
      "application/vnd.jupyter.widget-view+json": {
       "model_id": "3ef96c98569b4e8cbe78a2c7e3a9496b",
       "version_major": 2,
       "version_minor": 0
      },
      "text/plain": [
       "config.json: 0.00B [00:00, ?B/s]"
      ]
     },
     "metadata": {},
     "output_type": "display_data"
    },
    {
     "data": {
      "application/vnd.jupyter.widget-view+json": {
       "model_id": "2d0fd5ce31e344588c9b8a36eb683d04",
       "version_major": 2,
       "version_minor": 0
      },
      "text/plain": [
       "configuration_openelm.py: 0.00B [00:00, ?B/s]"
      ]
     },
     "metadata": {},
     "output_type": "display_data"
    },
    {
     "name": "stderr",
     "output_type": "stream",
     "text": [
      "A new version of the following files was downloaded from https://huggingface.co/apple/OpenELM-3B-Instruct:\n",
      "- configuration_openelm.py\n",
      ". Make sure to double-check they do not contain any added malicious code. To avoid downloading new versions of the code file, you can pin a revision.\n"
     ]
    },
    {
     "data": {
      "application/vnd.jupyter.widget-view+json": {
       "model_id": "3d8f787442f54c1f83e772c9bb0922ff",
       "version_major": 2,
       "version_minor": 0
      },
      "text/plain": [
       "modeling_openelm.py: 0.00B [00:00, ?B/s]"
      ]
     },
     "metadata": {},
     "output_type": "display_data"
    },
    {
     "name": "stderr",
     "output_type": "stream",
     "text": [
      "A new version of the following files was downloaded from https://huggingface.co/apple/OpenELM-3B-Instruct:\n",
      "- modeling_openelm.py\n",
      ". Make sure to double-check they do not contain any added malicious code. To avoid downloading new versions of the code file, you can pin a revision.\n"
     ]
    },
    {
     "data": {
      "application/vnd.jupyter.widget-view+json": {
       "model_id": "9062bd2fc73049839ae34e9dd75d11b2",
       "version_major": 2,
       "version_minor": 0
      },
      "text/plain": [
       "model.safetensors.index.json: 0.00B [00:00, ?B/s]"
      ]
     },
     "metadata": {},
     "output_type": "display_data"
    },
    {
     "data": {
      "application/vnd.jupyter.widget-view+json": {
       "model_id": "e8fee42930c244df819ac18ca3c98b7b",
       "version_major": 2,
       "version_minor": 0
      },
      "text/plain": [
       "Downloading shards:   0%|          | 0/2 [00:00<?, ?it/s]"
      ]
     },
     "metadata": {},
     "output_type": "display_data"
    },
    {
     "data": {
      "application/vnd.jupyter.widget-view+json": {
       "model_id": "2808ebe8cf66476da2832a1e87c95599",
       "version_major": 2,
       "version_minor": 0
      },
      "text/plain": [
       "model-00001-of-00002.safetensors:   0%|          | 0.00/4.94G [00:00<?, ?B/s]"
      ]
     },
     "metadata": {},
     "output_type": "display_data"
    },
    {
     "data": {
      "application/vnd.jupyter.widget-view+json": {
       "model_id": "f5b05daa3ed14e53aa93b3a2ac64692f",
       "version_major": 2,
       "version_minor": 0
      },
      "text/plain": [
       "model-00002-of-00002.safetensors:   0%|          | 0.00/1.13G [00:00<?, ?B/s]"
      ]
     },
     "metadata": {},
     "output_type": "display_data"
    },
    {
     "data": {
      "application/vnd.jupyter.widget-view+json": {
       "model_id": "77fe915a596345fcbc3798ef22628df6",
       "version_major": 2,
       "version_minor": 0
      },
      "text/plain": [
       "Loading checkpoint shards:   0%|          | 0/2 [00:00<?, ?it/s]"
      ]
     },
     "metadata": {},
     "output_type": "display_data"
    },
    {
     "data": {
      "application/vnd.jupyter.widget-view+json": {
       "model_id": "5c899d95841b46f1a4ce6694e83148b6",
       "version_major": 2,
       "version_minor": 0
      },
      "text/plain": [
       "generation_config.json:   0%|          | 0.00/111 [00:00<?, ?B/s]"
      ]
     },
     "metadata": {},
     "output_type": "display_data"
    }
   ],
   "source": [
    "import torch \n",
    "from transformers import AutoTokenizer, AutoModelForCausalLM\n",
    "\n",
    "tokenizer = AutoTokenizer.from_pretrained(\"meta-llama/Llama-2-7b-hf\", trust_remote_code=True) # download the tokenizer\n",
    "model = AutoModelForCausalLM.from_pretrained(\"apple/OpenELM-3B-Instruct\", trust_remote_code=True) # download the model (this may take a while)"
   ]
  },
  {
   "cell_type": "markdown",
   "metadata": {},
   "source": [
    "### Collect Largest Weight `matmul` in LLM \n",
    "The output of the cell below should show you the dimensions of the matrix multiplication inputs. As you can see they are very large and, given a matrix multiplication has 'O(sequence_length x input_channels x output_channels)', you can see why performing this operation could be so important for AI inference. "
   ]
  },
  {
   "cell_type": "code",
   "execution_count": 2,
   "metadata": {},
   "outputs": [
    {
     "name": "stdout",
     "output_type": "stream",
     "text": [
      "The collected weight matrix has shape 32000x3072 (output_channels x input_channels)\n",
      "The collected activation tensor has shape 23x3072 (sequence_length x input_channels)\n"
     ]
    }
   ],
   "source": [
    "import torch\n",
    "import torch.nn.functional as F\n",
    "import os\n",
    "os.environ[\"TOKENIZERS_PARALLELISM\"] = \"false\"\n",
    "activations = {} # Initialize to store the activations\n",
    "\n",
    "prompt = \"What is the best way to optimize the inference of a large language model for Arm Neoverse processors?\"  # create a sample prompt for the llm \n",
    "inputs = tokenizer(prompt, return_tensors=\"pt\") # tokenize the prompt ready for inputting into the model\n",
    "\n",
    "# Define a hook function to capture output activation of each matrix multiplication\n",
    "def get_activation_input(name):\n",
    "    def hook(model, input, output):\n",
    "        # 'input' is a tuple; we take the first element for the input tensor\n",
    "        activations[name] = output[0]\n",
    "    return hook\n",
    "\n",
    "\n",
    "# The largest matmul is after the last normalization, We therefor apply the hook \n",
    "# On this layer to the the input for th last matmul which is the projection from \n",
    "# Tokens to probabilities over the all possible tokens in the vocabulary.\n",
    "layer = model.transformer.norm\n",
    "hook_handle = layer.register_forward_hook(get_activation_input('token_activations'))\n",
    "\n",
    "# Run the model forward pass\n",
    "with torch.no_grad():\n",
    "    model(**inputs)\n",
    "\n",
    "# Extract the projection weight matrix and the input activation tensor from the hook\n",
    "W = model.transformer.token_embeddings.weight.data.clone()\n",
    "X = activations['token_activations']\n",
    "\n",
    "hook_handle.remove()\n",
    "print(f\"The collected weight matrix has shape {W.shape[0]}x{W.shape[1]} (output_channels x input_channels)\")\n",
    "print(f\"The collected activation tensor has shape {X.shape[0]}x{X.shape[1]} (sequence_length x input_channels)\")"
   ]
  },
  {
   "cell_type": "markdown",
   "metadata": {},
   "source": [
    "# Explanation\n",
    "\n",
    "The above cell computes two key tensors:\n",
    "\n",
    "1. **Activation Tensor `X`**: Shape \\([23, 3072]\\)  \n",
    "   - This corresponds to 23 tokens in the input sequence, each represented by a 3072-dimensional embedding generated by the OpenElm transformer.\n",
    "\n",
    "2. **Weight Matrix**: Shape \\([32000, 3072]\\)  \n",
    "   - This is a matrix multiplication projection matrix, transforming each of the 3072-dimensional tokens into a 32,000-dimensional vector. Each of the 32,000-dimensional vectors are the logits for each of the 32,000 possible tokens in the vocabulary.\n",
    "\n",
    "When we multiply these two tensors, their common dimension of 3072 aligns, producing an output of shape \\([23, 32000]\\). The first dimension corresponds to the 23 tokens in the sequence, and the second dimension corresponds to the 32,000 tokens in the vocabulary.\n",
    "\n",
    "The resulting matrix provides the logits for every token in the vocabulary for each position in the sequence. These logits can then be used to generate probability distributions over the next predicted token. This distribution can be sampled to generate the next token in the sequence. \n",
    "\n",
    "Now that we have saved the inputs to the matrix multiplication, let's measure Torch's matrix multiplication latency from Python. We can use that as a reference to compare against when using the Arm intrinsics for further acceleration. "
   ]
  },
  {
   "cell_type": "markdown",
   "metadata": {},
   "source": [
    "### Benchmark Torch Latency for the `matmul`"
   ]
  },
  {
   "cell_type": "code",
   "execution_count": 3,
   "metadata": {},
   "outputs": [
    {
     "name": "stdout",
     "output_type": "stream",
     "text": [
      "51.23 milliseconds\n"
     ]
    }
   ],
   "source": [
    "import time\n",
    "import torch\n",
    "\n",
    "def measure_time():\n",
    "    start = time.perf_counter()\n",
    "    with torch.no_grad():\n",
    "        y = torch.mm(X, W.T)  # perform the matrix multiplication\n",
    "    end = time.perf_counter()\n",
    "    return (end - start) * 1e3  # Convert seconds to microseconds\n",
    "\n",
    "# Run multiple times and average\n",
    "times = [measure_time() for _ in range(10)]\n",
    "torch_latency_us = sum(times) / len(times)  # Average in microseconds\n",
    "\n",
    "print(f\"{torch_latency_us:.2f} milliseconds\")"
   ]
  },
  {
   "cell_type": "markdown",
   "metadata": {},
   "source": [
    "Your output should be something in the order of 90 milliseconds. That is pretty good, but I think we can do better by utilizing the intrinsics that Neoverse provides. Let's dive into some low-level C++ to gain greater control and insight as to how the hardware is working. We still want to use the same matrix multiply inputs as above, so let's write them out to disk so our C++ programs can read the same example. "
   ]
  },
  {
   "cell_type": "code",
   "execution_count": 4,
   "metadata": {},
   "outputs": [],
   "source": [
    "!mkdir src/cpp/assets/\n",
    "\n",
    "X.numpy().tofile(\"src/cpp/assets/x_fp32.bin\") # write the activation tensor to disk \n",
    "W.numpy().tofile(\"src/cpp/assets/w_fp32.bin\") # write the weight tensor to disk"
   ]
  },
  {
   "cell_type": "markdown",
   "metadata": {},
   "source": [
    "## Naive `matmul` Operator\n",
    "We can again also write the naive implementation of the matrix multiplication in C++ without any parallelization, memory optimizations or vectorization. This is just like in the first lab, except that the matrix multiplication is involving non-square matrices, and hence we have to pass the multiplication dimensions 'M, K, and N' which are integer values, defining the shape of the matrix multiplication (read the code cell comments for more details). Note that we again store the matrices as a flat pointer, representing the matrices as a single vector in row-major order (go back to Lab 1 to learn about row-major if you are unsure)."
   ]
  },
  {
   "cell_type": "code",
   "execution_count": 5,
   "metadata": {},
   "outputs": [
    {
     "name": "stdout",
     "output_type": "stream",
     "text": [
      "Writing src/cpp/naive/kernel.cpp\n"
     ]
    }
   ],
   "source": [
    "%%writefile src/cpp/naive/kernel.cpp\n",
    "\n",
    "#include <stdio.h>\n",
    "#include <stdlib.h>\n",
    "#include <time.h>\n",
    "\n",
    "void matrix_multiply_naive(float* A, float* B, float* C, int M, int K, int N) {\n",
    "    // # M: the number of rows in the left-hand matrix (M = A.shape[0])\n",
    "    // # K: the inner dimensions of the multiple (K == A.shape[1] == B.shape[0])\n",
    "    // # N: the number of columns in the right-hand matrix (N == B.shape[1])\n",
    "    float accumulator = 0;\n",
    "    for (int m = 0; m < M; m++) {\n",
    "        for (int n = 0; n < N; n++) {\n",
    "            accumulator = 0;\n",
    "            for (int k = 0; k < K; k++) {\n",
    "                accumulator += A[m * K + k] * B[k * K + n];\n",
    "            }\n",
    "            C[m * K + n] = accumulator;\n",
    "        }\n",
    "    }\n",
    "}"
   ]
  },
  {
   "cell_type": "markdown",
   "metadata": {},
   "source": [
    "### Benchmark the Naive Operator"
   ]
  },
  {
   "cell_type": "markdown",
   "metadata": {},
   "source": [
    "We have written some benchmark code inside `src/cpp/naive/benchmark_naive.cpp` that will measure the kernel's latency. You can build, compile, and run it using the cell below."
   ]
  },
  {
   "cell_type": "code",
   "execution_count": 6,
   "metadata": {},
   "outputs": [
    {
     "name": "stdout",
     "output_type": "stream",
     "text": [
      "-- The C compiler identification is GNU 11.4.0\n",
      "-- The CXX compiler identification is GNU 11.4.0\n",
      "-- Detecting C compiler ABI info\n",
      "-- Detecting C compiler ABI info - done\n",
      "-- Check for working C compiler: /usr/bin/cc - skipped\n",
      "-- Detecting C compile features\n",
      "-- Detecting C compile features - done\n",
      "-- Detecting CXX compiler ABI info\n",
      "-- Detecting CXX compiler ABI info - done\n",
      "-- Check for working CXX compiler: /usr/bin/c++ - skipped\n",
      "-- Detecting CXX compile features\n",
      "-- Detecting CXX compile features - done\n",
      "-- Configuring done\n",
      "-- Generating done\n",
      "-- Build files have been written to: /home/ubuntu/AI-on-Arm/src/cpp/naive/build\n",
      "[ 33%] \u001b[32mBuilding CXX object CMakeFiles/benchmark_naive.dir/benchmark_naive.cpp.o\u001b[0m\n",
      "[ 66%] \u001b[32mBuilding CXX object CMakeFiles/benchmark_naive.dir/kernel.cpp.o\u001b[0m\n",
      "[100%] \u001b[32m\u001b[1mLinking CXX executable benchmark_naive\u001b[0m\n",
      "[100%] Built target benchmark_naive\n",
      " \n",
      "======> Benchmarking Naive Kernel <========\n",
      "Time taken: 11 seconds\n",
      "=========> Benchmark completed. <========== \n",
      "\n"
     ]
    }
   ],
   "source": [
    "import os\n",
    "import subprocess\n",
    "\n",
    "# Set environment variable\n",
    "os.environ[\"TOKENIZERS_PARALLELISM\"] = \"false\"\n",
    "\n",
    "# Define the build directory path\n",
    "build_dir = \"src/cpp/naive/build\"\n",
    "\n",
    "# Create the build directory if it doesn't exist\n",
    "os.makedirs(build_dir, exist_ok=True)\n",
    "\n",
    "# Configure the project with CMake\n",
    "subprocess.run([\"cmake\", \"..\"], cwd=build_dir, check=True)\n",
    "\n",
    "# Build the project using Make\n",
    "subprocess.run([\"make\"], cwd=build_dir, check=True)\n",
    "print(\" \")\n",
    "print(\"======> Benchmarking Naive Kernel <========\")\n",
    "# Execute the benchmark binary\n",
    "subprocess.run([\"./benchmark_naive\"], cwd=build_dir)\n",
    "print(\"=========> Benchmark completed. <========== \\n\")\n"
   ]
  },
  {
   "cell_type": "markdown",
   "metadata": {},
   "source": [
    "The naive kernel achieves a latency of approximately **12 seconds**, making it roughly **140 times slower** than PyTorch in Python. This is because PyTorch natively uses optimized operator kernels to perform matrix multiplication that are parallelized across processing cores. In this next section, we will explore various matrix multiplication operator kernels, and see how they can harness the unique features of Arm Neoverse processors to accelerator the operation. In particular, we will be using the KleidiAI library, which is a highly efficient matrix multiplication library written in C++ and Assembly, specifically optimized for Arm devices. KleidiAI leverages advanced techniques such as microkernels and Arm intrinsics features to accelerate computation.\n",
    "\n",
    "Let us start by cloning the KleidiAI library."
   ]
  },
  {
   "cell_type": "markdown",
   "metadata": {},
   "source": [
    "# Clone KleidiAI"
   ]
  },
  {
   "cell_type": "code",
   "execution_count": 7,
   "metadata": {},
   "outputs": [
    {
     "name": "stdout",
     "output_type": "stream",
     "text": [
      "Cloning into 'kleidiai'...\n",
      "remote: Enumerating objects: 6224, done.\u001b[K\n",
      "remote: Counting objects: 100% (960/960), done.\u001b[K\n",
      "remote: Compressing objects: 100% (161/161), done.\u001b[K\n",
      "remote: Total 6224 (delta 867), reused 799 (delta 799), pack-reused 5264 (from 1)\u001b[K\n",
      "Receiving objects: 100% (6224/6224), 5.16 MiB | 19.06 MiB/s, done.\n",
      "Resolving deltas: 100% (4313/4313), done.\n"
     ]
    }
   ],
   "source": [
    "!git clone https://git.gitlab.arm.com/kleidi/kleidiai.git"
   ]
  },
  {
   "cell_type": "markdown",
   "metadata": {},
   "source": [
    "## Understanding the KleidiAI Microkernel"
   ]
  },
  {
   "cell_type": "markdown",
   "metadata": {},
   "source": [
    "The KleidiAI microkernel, available from the KleidiAI library is a minimal, highly optimized piece of code designed to accelerate specific machine learning operations on Arm CPUs. Unlike typical kernels or functions, microkernels are crafted to provide flexibility in how they process data, allowing them to handle portions of an output tensor rather than requiring the entire operation to be completed in one step. This flexibility enables efficient parallelization across multiple threads and improves performance by tailoring the computation to different hardware architectures and output tile sizes. For instance, you can partition a single matrix multiplication into multiple blocks of computation, and pass each of these blocks to a KleidiAI microkernel across different processing cores, thereby increasing throughput. \n",
    "\n",
    "Microkernels are available in different variants, each optimized for specific Arm architectures, technologies, and computational parameters. Despite these variations, all microkernel variants of the same type perform the same operation and produce identical results, ensuring consistency across different hardware and configurations. We will next go through variations of KleidiAI microkernels, learn about their naming conventions, and the technologies they use to accelerate our matrix multiplication example. First up, is the Neon SIMD processing concept that we learned about in Lab 1 for the floating-point 32 precision. "
   ]
  },
  {
   "cell_type": "markdown",
   "metadata": {},
   "source": [
    "## Creating a Kleidi Kernel"
   ]
  },
  {
   "cell_type": "markdown",
   "metadata": {},
   "source": [
    "The KleidiAI microkernels are located in the kleidiai/kai/ukernels directory. These variants follow a specific naming convention:\n",
    "\n",
    "`kai_matmul_<fused_ops>_<dst_info>_<lhs_info>_<rhs_info>_<mr x nr x kacc>_<technology>_<feature>_<instruction>`\n",
    "\n",
    "\n",
    "In this convention:\n",
    "- `fused_ops` specifies additional operations integrated with the matrix multiplication. For example, `clamp` represents an operation that clamps the input activations to ensure numerical stability.\n",
    "- `dst_info` defines the output data type.\n",
    "- `lhs_info` provides information about the input data type, referring to where the activation tensor is supplied.\n",
    "- `rhs_info` specifies the data type of the weights.\n",
    "\n",
    "You can refer to the [repository documentation](https://gitlab.arm.com/kleidi/kleidiai/-/tree/main/kai/ukernels/matmul?ref_type=heads) for a detailed explanation of the naming conventions used for data types. \n",
    "\n",
    "For now, we will explore several examples and explain their components step by step, starting with floating-point 32 matrix multiplication."
   ]
  },
  {
   "cell_type": "markdown",
   "metadata": {},
   "source": [
    "# FP32 NEON MLA"
   ]
  },
  {
   "cell_type": "code",
   "execution_count": 8,
   "metadata": {},
   "outputs": [
    {
     "name": "stdout",
     "output_type": "stream",
     "text": [
      "Writing src/cpp/f32_f32_f32p/kernel.cpp\n"
     ]
    }
   ],
   "source": [
    "%%writefile src/cpp/f32_f32_f32p/kernel.cpp\n",
    "\n",
    "#include <arm_neon.h>\n",
    "\n",
    "#include \"kai_matmul_clamp_f32_f32_f32p8x1biasf32_6x8x4_neon_mla.h\"\n",
    "#include \"kai_matmul_clamp_f32_f32_f32p_interface.h\"\n",
    "\n",
    "\n",
    "constexpr kai_matmul_clamp_f32_f32_f32p_ukernel ukernel{\n",
    "    kai_get_m_step_matmul_clamp_f32_f32_f32p8x1biasf32_6x8x4_neon_mla,\n",
    "    kai_get_n_step_matmul_clamp_f32_f32_f32p8x1biasf32_6x8x4_neon_mla,\n",
    "    kai_get_nr_matmul_clamp_f32_f32_f32p8x1biasf32_6x8x4_neon_mla,\n",
    "    kai_get_kr_matmul_clamp_f32_f32_f32p8x1biasf32_6x8x4_neon_mla,\n",
    "    kai_get_sr_matmul_clamp_f32_f32_f32p8x1biasf32_6x8x4_neon_mla,\n",
    "    kai_get_lhs_offset_matmul_clamp_f32_f32_f32p8x1biasf32_6x8x4_neon_mla,\n",
    "    kai_get_rhs_packed_offset_matmul_clamp_f32_f32_f32p8x1biasf32_6x8x4_neon_mla,\n",
    "    kai_get_dst_offset_matmul_clamp_f32_f32_f32p8x1biasf32_6x8x4_neon_mla,\n",
    "    kai_get_dst_size_matmul_clamp_f32_f32_f32p8x1biasf32_6x8x4_neon_mla,\n",
    "    kai_run_matmul_clamp_f32_f32_f32p8x1biasf32_6x8x4_neon_mla};"
   ]
  },
  {
   "cell_type": "markdown",
   "metadata": {},
   "source": [
    "The above cell defines a **KleidiAI microkernel** with the struct name:\n",
    "\n",
    "`kai_matmul_clamp_f32_f32_f32p_ukernel`\n",
    "\n",
    "\n",
    "Here, `f32` is used for both `lhs_info` and `dst_info`, meaning the input activation tensor and output data use **32-bit floating-point precision**. The `rhs_info` is also `f32`, but with a `p` suffix, indicating that the weight matrix must be **packed** in a specific format.\n",
    "\n",
    "Packing the weight matrix optimizes **memory alignment**, improving **memory locality**, **cache efficiency**, and **access patterns**. By applying **tiling, loop unrolling, Neon SIMD vectorization**, and **packed weights**, the microkernel minimizes memory latency and maximizes computational throughput, significantly reducing overall latency compared to a naive implementation."
   ]
  },
  {
   "cell_type": "markdown",
   "metadata": {},
   "source": [
    "### Build and Benchmark the 32-bit Floating-Point Kernel "
   ]
  },
  {
   "cell_type": "code",
   "execution_count": 9,
   "metadata": {},
   "outputs": [
    {
     "name": "stdout",
     "output_type": "stream",
     "text": [
      "-- The C compiler identification is GNU 11.4.0\n",
      "-- The CXX compiler identification is GNU 11.4.0\n",
      "-- Detecting C compiler ABI info\n",
      "-- Detecting C compiler ABI info - done\n",
      "-- Check for working C compiler: /usr/bin/cc - skipped\n",
      "-- Detecting C compile features\n",
      "-- Detecting C compile features - done\n",
      "-- Detecting CXX compiler ABI info\n",
      "-- Detecting CXX compiler ABI info - done\n",
      "-- Check for working CXX compiler: /usr/bin/c++ - skipped\n",
      "-- Detecting CXX compile features\n",
      "-- Detecting CXX compile features - done\n",
      "-- The ASM compiler identification is GNU\n",
      "-- Found assembler: /usr/bin/cc\n",
      "-- Configuring done\n",
      "-- Generating done\n",
      "-- Build files have been written to: /home/ubuntu/AI-on-Arm/src/cpp/f32_f32_f32p/build\n",
      "\u001b[35m\u001b[1mScanning dependencies of target benchmark_f32\u001b[0m\n",
      "[  5%] \u001b[32mBuilding CXX object CMakeFiles/benchmark_f32.dir/benchmark_f32.cpp.o\u001b[0m\n",
      "[ 11%] \u001b[32mBuilding CXX object CMakeFiles/benchmark_f32.dir/kernel.cpp.o\u001b[0m\n",
      "[ 16%] \u001b[32mBuilding C object CMakeFiles/benchmark_f32.dir/home/ubuntu/AI-on-Arm/kleidiai/kai/ukernels/matmul/matmul_clamp_f32_f32_f32p/kai_matmul_clamp_f32_f32_f32p8x1biasf32_6x8x4_neon_mla.c.o\u001b[0m\n",
      "[ 22%] \u001b[32mBuilding C object CMakeFiles/benchmark_f32.dir/home/ubuntu/AI-on-Arm/kleidiai/kai/ukernels/matmul/pack/kai_rhs_pack_kxn_f32p8x1biasf32_f32_f32_neon.c.o\u001b[0m\n",
      "[ 27%] \u001b[32mBuilding ASM object CMakeFiles/benchmark_f32.dir/home/ubuntu/AI-on-Arm/kleidiai/kai/ukernels/matmul/matmul_clamp_f32_f32_f32p/kai_matmul_clamp_f32_f32_f32p8x1biasf32_6x8x4_neon_mla_asm.S.o\u001b[0m\n",
      "[ 33%] \u001b[32m\u001b[1mLinking CXX executable benchmark_f32\u001b[0m\n",
      "[ 33%] Built target benchmark_f32\n",
      "\u001b[35m\u001b[1mScanning dependencies of target benchmark_f32_scaling\u001b[0m\n",
      "[ 38%] \u001b[32mBuilding CXX object CMakeFiles/benchmark_f32_scaling.dir/benchmark_f32_scaling.cpp.o\u001b[0m\n",
      "[ 44%] \u001b[32mBuilding CXX object CMakeFiles/benchmark_f32_scaling.dir/kernel.cpp.o\u001b[0m\n",
      "[ 50%] \u001b[32mBuilding C object CMakeFiles/benchmark_f32_scaling.dir/home/ubuntu/AI-on-Arm/kleidiai/kai/ukernels/matmul/matmul_clamp_f32_f32_f32p/kai_matmul_clamp_f32_f32_f32p8x1biasf32_6x8x4_neon_mla.c.o\u001b[0m\n",
      "[ 55%] \u001b[32mBuilding C object CMakeFiles/benchmark_f32_scaling.dir/home/ubuntu/AI-on-Arm/kleidiai/kai/ukernels/matmul/pack/kai_rhs_pack_kxn_f32p8x1biasf32_f32_f32_neon.c.o\u001b[0m\n",
      "[ 61%] \u001b[32mBuilding ASM object CMakeFiles/benchmark_f32_scaling.dir/home/ubuntu/AI-on-Arm/kleidiai/kai/ukernels/matmul/matmul_clamp_f32_f32_f32p/kai_matmul_clamp_f32_f32_f32p8x1biasf32_6x8x4_neon_mla_asm.S.o\u001b[0m\n",
      "[ 66%] \u001b[32m\u001b[1mLinking CXX executable benchmark_f32_scaling\u001b[0m\n",
      "[ 66%] Built target benchmark_f32_scaling\n",
      "\u001b[35m\u001b[1mScanning dependencies of target kai_f32_inf\u001b[0m\n",
      "[ 72%] \u001b[32mBuilding CXX object CMakeFiles/kai_f32_inf.dir/kai_f32_inf.cpp.o\u001b[0m\n",
      "[ 77%] \u001b[32mBuilding CXX object CMakeFiles/kai_f32_inf.dir/kernel.cpp.o\u001b[0m\n",
      "[ 83%] \u001b[32mBuilding C object CMakeFiles/kai_f32_inf.dir/home/ubuntu/AI-on-Arm/kleidiai/kai/ukernels/matmul/matmul_clamp_f32_f32_f32p/kai_matmul_clamp_f32_f32_f32p8x1biasf32_6x8x4_neon_mla.c.o\u001b[0m\n",
      "[ 88%] \u001b[32mBuilding C object CMakeFiles/kai_f32_inf.dir/home/ubuntu/AI-on-Arm/kleidiai/kai/ukernels/matmul/pack/kai_rhs_pack_kxn_f32p8x1biasf32_f32_f32_neon.c.o\u001b[0m\n",
      "[ 94%] \u001b[32mBuilding ASM object CMakeFiles/kai_f32_inf.dir/home/ubuntu/AI-on-Arm/kleidiai/kai/ukernels/matmul/matmul_clamp_f32_f32_f32p/kai_matmul_clamp_f32_f32_f32p8x1biasf32_6x8x4_neon_mla_asm.S.o\u001b[0m\n",
      "[100%] \u001b[32m\u001b[1mLinking CXX executable kai_f32_inf\u001b[0m\n",
      "[100%] Built target kai_f32_inf\n",
      " \n",
      "=====> Benchmarking KleidiAI FP32 Kernel <========\n",
      "Time taken: 9 milliseconds\n",
      "===========> Benchmark completed. <=============== \n",
      "\n"
     ]
    }
   ],
   "source": [
    "import os\n",
    "import subprocess\n",
    "\n",
    "# Set environment variable\n",
    "os.environ[\"TOKENIZERS_PARALLELISM\"] = \"false\"\n",
    "\n",
    "# Define the build directory path\n",
    "build_dir = \"src/cpp/f32_f32_f32p/build\"\n",
    "\n",
    "# Create the build directory if it doesn't exist\n",
    "os.makedirs(build_dir, exist_ok=True)\n",
    "\n",
    "# Configure the project with CMake\n",
    "subprocess.run([\"cmake\", \"..\"], cwd=build_dir, check=True)\n",
    "\n",
    "# Build the project using Make\n",
    "subprocess.run([\"make\"], cwd=build_dir, check=True)\n",
    "\n",
    "print(\" \")\n",
    "print(\"=====> Benchmarking KleidiAI FP32 Kernel <========\")\n",
    "# Execute the benchmark binary\n",
    "subprocess.run([\"./benchmark_f32\"], cwd=build_dir)\n",
    "print(\"===========> Benchmark completed. <=============== \\n\")"
   ]
  },
  {
   "cell_type": "markdown",
   "metadata": {},
   "source": [
    "The result should show a **latency in the range of ten milliseconds**, which is impressive. By using the **KleidiAI kernels**, we achieve a **1000x improvement in latency** compared to the naive kernel, and this is without applying any quantization.  \n",
    "\n",
    "To better understand how this performance is achieved, we can use a tool called `process watch` to examine the intrinsics used by the operator. Please follow the instructions below carefully. There are four steps:\n",
    "\n",
    "**Step 1:**  Run the first code cell below. This will execute the matrix multiplication in an **infinite loop**, ensuring that the process does not terminate. The output will include a **Process ID (PID)**, which we will use to analyze the computation.\n",
    "\n",
    "**Step 2:**  Copy the **PID** from the first cell and paste it into the second cell after the `-p` flag. This will configure the `process watch` tool to monitor the running matrix multiplication process and display its analysis in real time.\n",
    "\n",
    "**Step 3:**  Once the analysis has been printed a few times, **interrupt the kernel** to stop the output.  \n",
    "To do this, go to the **top-left menu** in JupyterLab, click on **Kernel**, and select **Interrupt Kernel**.\n",
    "\n",
    "**Step 4:**  Finally, run the third code cell to **terminate the matrix multiplication process**.\n"
   ]
  },
  {
   "cell_type": "markdown",
   "metadata": {},
   "source": [
    "Using `Process Watch` we can check what kernels are being run:"
   ]
  },
  {
   "cell_type": "code",
   "execution_count": 10,
   "metadata": {},
   "outputs": [
    {
     "name": "stdout",
     "output_type": "stream",
     "text": [
      "Main process ID: 10995\n"
     ]
    }
   ],
   "source": [
    "import subprocess\n",
    "import os\n",
    "import time\n",
    "import signal\n",
    "\n",
    "# Run the main process\n",
    "process = subprocess.Popen(\n",
    "    [\"src/cpp/f32_f32_f32p/build/kai_f32_inf\"],\n",
    "    stdout=subprocess.PIPE,\n",
    "    stderr=subprocess.PIPE\n",
    ")\n",
    "\n",
    "print(f\"Main process ID: {process.pid}\")"
   ]
  },
  {
   "cell_type": "code",
   "execution_count": 11,
   "metadata": {},
   "outputs": [
    {
     "name": "stdout",
     "output_type": "stream",
     "text": [
      "\n",
      "PID      NAME             NEON     SVE      SVE2     MatMulIn DotProd  %TOTAL   TOTAL   \n",
      "ALL      ALL              71.81    0.00     0.00     0.00     0.00     100.00   41359   \n",
      "10995    kai_f32_inf      71.81    0.00     0.00     0.00     0.00     100.00   41359   \n",
      "\n",
      "PID      NAME             NEON     SVE      SVE2     MatMulIn DotProd  %TOTAL   TOTAL   \n",
      "ALL      ALL              71.38    0.00     0.00     0.00     0.00     100.00   36505   \n",
      "10995    kai_f32_inf      71.38    0.00     0.00     0.00     0.00     100.00   36505   \n",
      "^C\n"
     ]
    }
   ],
   "source": [
    "!sudo ./processwatch/processwatch -p 10995 -f HasNEON -f HasSVE -f HasSVE2 -f HasMatMulInt8 -f HasDotProd "
   ]
  },
  {
   "cell_type": "code",
   "execution_count": 12,
   "metadata": {},
   "outputs": [],
   "source": [
    "import os\n",
    "import signal\n",
    "\n",
    "os.kill(process.pid, signal.SIGTERM)"
   ]
  },
  {
   "cell_type": "markdown",
   "metadata": {},
   "source": [
    "The analysis should show roughly 70% of the machine instructions are using the Neon SIMD registers, and hence making very effective use of vectorization. Next we can implement the exact same matrix multiplication with the KleidiAI library using the cell below but utilizing FP16 precision not FP32. This saves half the memory bandwidth. "
   ]
  },
  {
   "cell_type": "markdown",
   "metadata": {},
   "source": [
    "# FP16 NEON MLA \n",
    "\n",
    "Next up is the FP16 kernel. This uses the floating-point 16 precision with just 16 bits as opposed to FP32 that uses 32. Using half the memory per element reduces the load on memory bandwidth as less data needs to be read and written to DRAM."
   ]
  },
  {
   "cell_type": "code",
   "execution_count": 13,
   "metadata": {},
   "outputs": [
    {
     "name": "stdout",
     "output_type": "stream",
     "text": [
      "Writing src/cpp/f16_f16_f16p/kernel.cpp\n"
     ]
    }
   ],
   "source": [
    "%%writefile src/cpp/f16_f16_f16p/kernel.cpp\n",
    "\n",
    "#include <arm_neon.h>\n",
    "\n",
    "#include \"kai_matmul_clamp_f16_f16_f16p16x1biasf16_6x16x8_neon_mla.h\"\n",
    "#include \"kai_matmul_clamp_f16_f16_f16p_interface.h\"\n",
    "\n",
    "constexpr kai_matmul_clamp_f16_f16_f16p_ukernel ukernel{\n",
    "    kai_get_m_step_matmul_clamp_f16_f16_f16p16x1biasf16_6x16x8_neon_mla,\n",
    "    kai_get_n_step_matmul_clamp_f16_f16_f16p16x1biasf16_6x16x8_neon_mla,\n",
    "    kai_get_nr_matmul_clamp_f16_f16_f16p16x1biasf16_6x16x8_neon_mla,\n",
    "    kai_get_kr_matmul_clamp_f16_f16_f16p16x1biasf16_6x16x8_neon_mla,\n",
    "    kai_get_sr_matmul_clamp_f16_f16_f16p16x1biasf16_6x16x8_neon_mla,\n",
    "    kai_get_lhs_offset_matmul_clamp_f16_f16_f16p16x1biasf16_6x16x8_neon_mla,\n",
    "    kai_get_rhs_packed_offset_matmul_clamp_f16_f16_f16p16x1biasf16_6x16x8_neon_mla,\n",
    "    kai_get_dst_offset_matmul_clamp_f16_f16_f16p16x1biasf16_6x16x8_neon_mla,\n",
    "    kai_get_dst_size_matmul_clamp_f16_f16_f16p16x1biasf16_6x16x8_neon_mla,\n",
    "    kai_run_matmul_clamp_f16_f16_f16p16x1biasf16_6x16x8_neon_mla};"
   ]
  },
  {
   "cell_type": "markdown",
   "metadata": {},
   "source": [
    "### Build and Benchmark the 16-bit Floating-Point Kernel "
   ]
  },
  {
   "cell_type": "code",
   "execution_count": 14,
   "metadata": {},
   "outputs": [
    {
     "name": "stdout",
     "output_type": "stream",
     "text": [
      "-- The C compiler identification is GNU 11.4.0\n",
      "-- The CXX compiler identification is GNU 11.4.0\n",
      "-- Detecting C compiler ABI info\n",
      "-- Detecting C compiler ABI info - done\n",
      "-- Check for working C compiler: /usr/bin/cc - skipped\n",
      "-- Detecting C compile features\n",
      "-- Detecting C compile features - done\n",
      "-- Detecting CXX compiler ABI info\n",
      "-- Detecting CXX compiler ABI info - done\n",
      "-- Check for working CXX compiler: /usr/bin/c++ - skipped\n",
      "-- Detecting CXX compile features\n",
      "-- Detecting CXX compile features - done\n",
      "-- Configuring done\n",
      "-- Generating done\n",
      "-- Build files have been written to: /home/ubuntu/AI-on-Arm/src/cpp/f16_f16_f16p/build\n",
      "[  6%] \u001b[32mBuilding CXX object CMakeFiles/benchmark_f16.dir/benchmark_f16.cpp.o\u001b[0m\n",
      "[ 13%] \u001b[32mBuilding CXX object CMakeFiles/benchmark_f16.dir/kernel.cpp.o\u001b[0m\n",
      "[ 20%] \u001b[32mBuilding C object CMakeFiles/benchmark_f16.dir/home/ubuntu/AI-on-Arm/kleidiai/kai/ukernels/matmul/matmul_clamp_f16_f16_f16p/kai_matmul_clamp_f16_f16_f16p16x1biasf16_6x16x8_neon_mla.c.o\u001b[0m\n",
      "[ 26%] \u001b[32mBuilding C object CMakeFiles/benchmark_f16.dir/home/ubuntu/AI-on-Arm/kleidiai/kai/ukernels/matmul/pack/kai_rhs_pack_kxn_f16p16x1biasf16_f16_f16_neon.c.o\u001b[0m\n",
      "[ 33%] \u001b[32m\u001b[1mLinking CXX executable benchmark_f16\u001b[0m\n",
      "[ 33%] Built target benchmark_f16\n",
      "[ 40%] \u001b[32mBuilding CXX object CMakeFiles/benchmark_f16_scaling.dir/benchmark_f16_scaling.cpp.o\u001b[0m\n",
      "[ 46%] \u001b[32mBuilding CXX object CMakeFiles/benchmark_f16_scaling.dir/kernel.cpp.o\u001b[0m\n",
      "[ 53%] \u001b[32mBuilding C object CMakeFiles/benchmark_f16_scaling.dir/home/ubuntu/AI-on-Arm/kleidiai/kai/ukernels/matmul/matmul_clamp_f16_f16_f16p/kai_matmul_clamp_f16_f16_f16p16x1biasf16_6x16x8_neon_mla.c.o\u001b[0m\n",
      "[ 60%] \u001b[32mBuilding C object CMakeFiles/benchmark_f16_scaling.dir/home/ubuntu/AI-on-Arm/kleidiai/kai/ukernels/matmul/pack/kai_rhs_pack_kxn_f16p16x1biasf16_f16_f16_neon.c.o\u001b[0m\n",
      "[ 66%] \u001b[32m\u001b[1mLinking CXX executable benchmark_f16_scaling\u001b[0m\n",
      "[ 66%] Built target benchmark_f16_scaling\n",
      "[ 73%] \u001b[32mBuilding CXX object CMakeFiles/kai_f16_inf.dir/kai_f16_inf.cpp.o\u001b[0m\n",
      "[ 80%] \u001b[32mBuilding CXX object CMakeFiles/kai_f16_inf.dir/kernel.cpp.o\u001b[0m\n",
      "[ 86%] \u001b[32mBuilding C object CMakeFiles/kai_f16_inf.dir/home/ubuntu/AI-on-Arm/kleidiai/kai/ukernels/matmul/matmul_clamp_f16_f16_f16p/kai_matmul_clamp_f16_f16_f16p16x1biasf16_6x16x8_neon_mla.c.o\u001b[0m\n",
      "[ 93%] \u001b[32mBuilding C object CMakeFiles/kai_f16_inf.dir/home/ubuntu/AI-on-Arm/kleidiai/kai/ukernels/matmul/pack/kai_rhs_pack_kxn_f16p16x1biasf16_f16_f16_neon.c.o\u001b[0m\n",
      "[100%] \u001b[32m\u001b[1mLinking CXX executable kai_f16_inf\u001b[0m\n",
      "[100%] Built target kai_f16_inf\n",
      " \n",
      "=====> Benchmarking KleidiAI FP16 Kernel <========\n",
      "Time taken: 4 milliseconds\n",
      "===========> Benchmark completed. <=============== \n",
      "\n"
     ]
    }
   ],
   "source": [
    "import os\n",
    "import subprocess\n",
    "\n",
    "# Set environment variable\n",
    "os.environ[\"TOKENIZERS_PARALLELISM\"] = \"false\"\n",
    "\n",
    "# Define the build directory path\n",
    "build_dir = \"src/cpp/f16_f16_f16p/build\"\n",
    "\n",
    "# Create the build directory if it doesn't exist\n",
    "os.makedirs(build_dir, exist_ok=True)\n",
    "\n",
    "# Configure the project with CMake\n",
    "subprocess.run([\"cmake\", \"..\"], cwd=build_dir, check=True)\n",
    "\n",
    "# Build the project using Make\n",
    "subprocess.run([\"make\"], cwd=build_dir, check=True)\n",
    "\n",
    "print(\" \")\n",
    "print(\"=====> Benchmarking KleidiAI FP16 Kernel <========\")\n",
    "# Execute the benchmark binary\n",
    "subprocess.run([\"./benchmark_f16\"], cwd=build_dir)\n",
    "print(\"===========> Benchmark completed. <=============== \\n\")\n"
   ]
  },
  {
   "cell_type": "markdown",
   "metadata": {},
   "source": [
    "Your benchmark for the **FP16 kernel** should be around **6 milliseconds**, showing an improvement over the previous **FP32 kernel**. This performance gain is due to the **Neoverse architecture’s native support for FP16 data types**.  \n",
    "\n",
    "Since FP16 precision uses **half the number of bits** compared to FP32, the **memory bandwidth requirement** for reading and writing from main memory is significantly reduced. This reduction lowers the bandwidth load and improves **cache utilization**, increasing the **cache hit rate** and further reducing latency.  \n",
    "\n",
    "Now, let's analyze the computational workload using **process watch**. Please follow the same **four steps** used for the **FP32 kernel**.\n"
   ]
  },
  {
   "cell_type": "code",
   "execution_count": 15,
   "metadata": {},
   "outputs": [
    {
     "name": "stdout",
     "output_type": "stream",
     "text": [
      "Main process ID: 11148\n"
     ]
    }
   ],
   "source": [
    "import subprocess\n",
    "import os\n",
    "import time\n",
    "import signal\n",
    "\n",
    "# Run the main process\n",
    "process = subprocess.Popen(\n",
    "    [\"src/cpp/f16_f16_f16p/build/kai_f16_inf\"],\n",
    "    stdout=subprocess.PIPE,\n",
    "    stderr=subprocess.PIPE\n",
    ")\n",
    "\n",
    "print(f\"Main process ID: {process.pid}\")"
   ]
  },
  {
   "cell_type": "code",
   "execution_count": 16,
   "metadata": {},
   "outputs": [
    {
     "name": "stdout",
     "output_type": "stream",
     "text": [
      "\n",
      "PID      NAME             NEON     SVE      SVE2     MatMulIn DotProd  %TOTAL   TOTAL   \n",
      "ALL      ALL              85.26    0.00     0.00     0.00     0.00     100.00   33198   \n",
      "11148    kai_f16_inf      85.26    0.00     0.00     0.00     0.00     100.00   33198   \n",
      "\n",
      "PID      NAME             NEON     SVE      SVE2     MatMulIn DotProd  %TOTAL   TOTAL   \n",
      "ALL      ALL              85.38    0.00     0.00     0.00     0.00     100.00   33167   \n",
      "11148    kai_f16_inf      85.38    0.00     0.00     0.00     0.00     100.00   33167   \n",
      "^C\n"
     ]
    }
   ],
   "source": [
    "!sudo ./processwatch/processwatch -p 11148 -f HasNEON -f HasSVE -f HasSVE2 -f HasMatMulInt8 -f HasDotProd "
   ]
  },
  {
   "cell_type": "code",
   "execution_count": 17,
   "metadata": {},
   "outputs": [],
   "source": [
    "import os\n",
    "import signal\n",
    "\n",
    "os.kill(process.pid, signal.SIGTERM)"
   ]
  },
  {
   "cell_type": "markdown",
   "metadata": {},
   "source": [
    "The **process watch** should indicate an increase in the percentage of **Neon instructions utilized** compared to **FP32 operations**. This is because **FP16** **operations** reduce memory bandwidth requirements when reading and writing half-precision activations and weights, compared to full-precision.\n",
    "\n",
    "As a result, the CPU can allocate more cycles to computation rather than being stalled by memory access, leading to **higher overall computational efficiency**.  \n",
    "\n",
    "Now, let's explore some of the **key features of Arm Neoverse architectures** that can further accelerate AI workloads.\n"
   ]
  },
  {
   "cell_type": "markdown",
   "metadata": {},
   "source": [
    "## DotProd\n",
    "\n",
    "The next extension we will introduce is **DotProd**. This extension uses **dot product instructions**, providing a powerful way to perform **multiply-accumulate operations on vectors**. These instructions efficiently **multiply rows and columns** of weight and activation matrices for full matrix multiplication.  \n",
    "\n",
    "There are two types of dot product instructions:  \n",
    "\n",
    "- **SDOT**: signed dot product  \n",
    "- **UDOT**: unsigned dot product  \n",
    "\n",
    "### **How They Work**  \n",
    "\n",
    "These instructions operate on **32-bit elements** packed inside larger vectors (either **64-bit, 128-bit Neon vectors, or scalable vectors in SVE2**). Each 32-bit element contains **four 8-bit sub-elements**. The dot product process follows these steps:\n",
    "\n",
    "1. **Multiply**: Each **8-bit** **element** in each 32-bit segment of the first vector is multiplied by the corresponding **8-bit element** in the second vector.  \n",
    "2. **Accumulate Products**: The **four resulting products** within each 32-bit segment are summed to produce a new **32-bit value**.  \n",
    "3. **Add to Destination**: Each 32-bit sum is added to the corresponding **32-bit element** in the destination vector.  \n",
    "\n",
    "This effectively computes an **inner product (dot product)** for each group of four 8-bit pairs. For example, the first 32-bit element is updated as follows:\n",
    "\n",
    "\n",
    "c0 = c0 + ( (a0 * b0) + (a1 * b1) + (a2 * b2) + (a3 * b3) )\n",
    "\n",
    "\n",
    "### **Performance Benefits**  \n",
    "\n",
    "The dot product instructions are optimized for **parallel computation**:\n",
    "\n",
    "- **Arm Cortex-X2** and **Arm Neoverse V1** can execute **four dot product instructions in parallel**.  \n",
    "- This enables them to process **four 128-bit operations per cycle**.  \n",
    "- Each 128-bit operation consists of **four groups of four 8-bit multiply-accumulates**, resulting in **64 multiply-accumulate operations per cycle**.  \n",
    "\n",
    "Now, let's see it in action!  \n",
    "\n",
    "First, we need to define the **KleidiAI microkernel** that utilizes **DotProd** instructions."
   ]
  },
  {
   "cell_type": "code",
   "execution_count": 18,
   "metadata": {},
   "outputs": [
    {
     "name": "stdout",
     "output_type": "stream",
     "text": [
      "Writing src/cpp/f32_i8_i4_dotprod/kernel.cpp\n"
     ]
    }
   ],
   "source": [
    "%%writefile src/cpp/f32_i8_i4_dotprod/kernel.cpp\n",
    "\n",
    "#include <arm_neon.h>\n",
    "#include <string>\n",
    "\n",
    "#include \"kai_matmul_clamp_f32_qsi8d32p1x8_qsi4c32p4x8_1x4x32_neon_dotprod.h\"\n",
    "#include \"kai_matmul_clamp_f32_qsi8d32p_qsi4c32p_interface.h\"\n",
    "\n",
    "\n",
    "constexpr kai_matmul_clamp_f32_qsi8d32p_qsi4c32p_ukernel ukernel{\n",
    "    kai_get_m_step_matmul_clamp_f32_qsi8d32p1x8_qsi4c32p4x8_1x4x32_neon_dotprod,\n",
    "    kai_get_n_step_matmul_clamp_f32_qsi8d32p1x8_qsi4c32p4x8_1x4x32_neon_dotprod,\n",
    "    kai_get_mr_matmul_clamp_f32_qsi8d32p1x8_qsi4c32p4x8_1x4x32_neon_dotprod,\n",
    "    kai_get_nr_matmul_clamp_f32_qsi8d32p1x8_qsi4c32p4x8_1x4x32_neon_dotprod,\n",
    "    kai_get_kr_matmul_clamp_f32_qsi8d32p1x8_qsi4c32p4x8_1x4x32_neon_dotprod,\n",
    "    kai_get_sr_matmul_clamp_f32_qsi8d32p1x8_qsi4c32p4x8_1x4x32_neon_dotprod,\n",
    "    kai_get_lhs_packed_offset_matmul_clamp_f32_qsi8d32p1x8_qsi4c32p4x8_1x4x32_neon_dotprod,\n",
    "    kai_get_rhs_packed_offset_matmul_clamp_f32_qsi8d32p1x8_qsi4c32p4x8_1x4x32_neon_dotprod,\n",
    "    kai_get_dst_offset_matmul_clamp_f32_qsi8d32p1x8_qsi4c32p4x8_1x4x32_neon_dotprod,\n",
    "    kai_get_dst_size_matmul_clamp_f32_qsi8d32p1x8_qsi4c32p4x8_1x4x32_neon_dotprod,\n",
    "    kai_run_matmul_clamp_f32_qsi8d32p1x8_qsi4c32p4x8_1x4x32_neon_dotprod};"
   ]
  },
  {
   "cell_type": "markdown",
   "metadata": {},
   "source": [
    "The naming convention for this kernel may seem complex at first, but let's break it down step by step:\n",
    "\n",
    "### Destination Information (`dst_info`)\n",
    "- **`dst_info`**: This part is similar to the previous format using `f32`, indicating that the output of the matrix multiplication is a 32-bit tensor.\n",
    "\n",
    "### Left-Hand Side Information (`lhs_info`)\n",
    "- **`lhs_info`**: The identifier `qsi8d32p` carries detailed information about the left-hand side tensor:\n",
    "  - **`q`**: indicates that the tensor is quantized\n",
    "  - **`s`**: specifies that the quantization is symmetric\n",
    "  - **`i8`**: the quantized data type is 8-bit integer (`int8`)\n",
    "  - **`d32`**: signifies per-dimension quantization, meaning there is one scalar quantization parameter for each dimension\n",
    "  - **`p`**: indicates that the matrix must be **packed** for efficient processing.\n",
    "\n",
    "### Right-Hand Side Information (`rhs_info`)\n",
    "- **`rhs_info`**: The identifier `qsi4c32p` describes the right-hand side tensor:\n",
    "  - **`q`**: indicates that the tensor is quantized\n",
    "  - **`s`**: specifies that the quantization is symmetric\n",
    "  - **`i4`**: the quantized data type is 4-bit integer (`int4`)\n",
    "  - **`c32`**: means per-group quantization, with a single scale parameter for every 32 elements in the tensor\n",
    "  - **`p`**: indicates that the matrix must be **packed**."
   ]
  },
  {
   "cell_type": "markdown",
   "metadata": {},
   "source": [
    "### Build and Run "
   ]
  },
  {
   "cell_type": "code",
   "execution_count": 19,
   "metadata": {},
   "outputs": [
    {
     "name": "stdout",
     "output_type": "stream",
     "text": [
      "-- The C compiler identification is GNU 11.4.0\n",
      "-- The CXX compiler identification is GNU 11.4.0\n",
      "-- Detecting C compiler ABI info\n",
      "-- Detecting C compiler ABI info - done\n",
      "-- Check for working C compiler: /usr/bin/cc - skipped\n",
      "-- Detecting C compile features\n",
      "-- Detecting C compile features - done\n",
      "-- Detecting CXX compiler ABI info\n",
      "-- Detecting CXX compiler ABI info - done\n",
      "-- Check for working CXX compiler: /usr/bin/c++ - skipped\n",
      "-- Detecting CXX compile features\n",
      "-- Detecting CXX compile features - done\n",
      "-- Configuring done\n",
      "-- Generating done\n",
      "-- Build files have been written to: /home/ubuntu/AI-on-Arm/src/cpp/f32_i8_i4_dotprod/build\n",
      "[  5%] \u001b[32mBuilding CXX object CMakeFiles/benchmark_dotprod.dir/benchmark_i8_dotprod.cpp.o\u001b[0m\n",
      "[ 11%] \u001b[32mBuilding CXX object CMakeFiles/benchmark_dotprod.dir/kernel.cpp.o\u001b[0m\n",
      "[ 16%] \u001b[32mBuilding C object CMakeFiles/benchmark_dotprod.dir/home/ubuntu/AI-on-Arm/kleidiai/kai/ukernels/matmul/matmul_clamp_f32_qsi8d32p_qsi4c32p/kai_matmul_clamp_f32_qsi8d32p1x8_qsi4c32p4x8_1x4x32_neon_dotprod.c.o\u001b[0m\n",
      "[ 22%] \u001b[32mBuilding C object CMakeFiles/benchmark_dotprod.dir/home/ubuntu/AI-on-Arm/kleidiai/kai/ukernels/matmul/pack/kai_rhs_pack_nxk_qsi4c32pscalef16_qsu4c32s16s0.c.o\u001b[0m\n",
      "[ 27%] \u001b[32mBuilding C object CMakeFiles/benchmark_dotprod.dir/home/ubuntu/AI-on-Arm/kleidiai/kai/ukernels/matmul/pack/kai_lhs_quant_pack_qsi8d32p_f32.c.o\u001b[0m\n",
      "[ 33%] \u001b[32m\u001b[1mLinking CXX executable benchmark_dotprod\u001b[0m\n",
      "[ 33%] Built target benchmark_dotprod\n",
      "[ 38%] \u001b[32mBuilding CXX object CMakeFiles/benchmark_dotprod_scaling.dir/benchmark_i8_dotprod_scaling.cpp.o\u001b[0m\n",
      "[ 44%] \u001b[32mBuilding CXX object CMakeFiles/benchmark_dotprod_scaling.dir/kernel.cpp.o\u001b[0m\n",
      "[ 50%] \u001b[32mBuilding C object CMakeFiles/benchmark_dotprod_scaling.dir/home/ubuntu/AI-on-Arm/kleidiai/kai/ukernels/matmul/matmul_clamp_f32_qsi8d32p_qsi4c32p/kai_matmul_clamp_f32_qsi8d32p1x8_qsi4c32p4x8_1x4x32_neon_dotprod.c.o\u001b[0m\n",
      "[ 55%] \u001b[32mBuilding C object CMakeFiles/benchmark_dotprod_scaling.dir/home/ubuntu/AI-on-Arm/kleidiai/kai/ukernels/matmul/pack/kai_rhs_pack_nxk_qsi4c32pscalef16_qsu4c32s16s0.c.o\u001b[0m\n",
      "[ 61%] \u001b[32mBuilding C object CMakeFiles/benchmark_dotprod_scaling.dir/home/ubuntu/AI-on-Arm/kleidiai/kai/ukernels/matmul/pack/kai_lhs_quant_pack_qsi8d32p_f32.c.o\u001b[0m\n",
      "[ 66%] \u001b[32m\u001b[1mLinking CXX executable benchmark_dotprod_scaling\u001b[0m\n",
      "[ 66%] Built target benchmark_dotprod_scaling\n",
      "[ 72%] \u001b[32mBuilding CXX object CMakeFiles/kai_i8_dotprod_inf.dir/kai_i8_dotprod_inf.cpp.o\u001b[0m\n",
      "[ 77%] \u001b[32mBuilding CXX object CMakeFiles/kai_i8_dotprod_inf.dir/kernel.cpp.o\u001b[0m\n",
      "[ 83%] \u001b[32mBuilding C object CMakeFiles/kai_i8_dotprod_inf.dir/home/ubuntu/AI-on-Arm/kleidiai/kai/ukernels/matmul/matmul_clamp_f32_qsi8d32p_qsi4c32p/kai_matmul_clamp_f32_qsi8d32p1x8_qsi4c32p4x8_1x4x32_neon_dotprod.c.o\u001b[0m\n",
      "[ 88%] \u001b[32mBuilding C object CMakeFiles/kai_i8_dotprod_inf.dir/home/ubuntu/AI-on-Arm/kleidiai/kai/ukernels/matmul/pack/kai_rhs_pack_nxk_qsi4c32pscalef16_qsu4c32s16s0.c.o\u001b[0m\n",
      "[ 94%] \u001b[32mBuilding C object CMakeFiles/kai_i8_dotprod_inf.dir/home/ubuntu/AI-on-Arm/kleidiai/kai/ukernels/matmul/pack/kai_lhs_quant_pack_qsi8d32p_f32.c.o\u001b[0m\n",
      "[100%] \u001b[32m\u001b[1mLinking CXX executable kai_i8_dotprod_inf\u001b[0m\n",
      "[100%] Built target kai_i8_dotprod_inf\n",
      " \n",
      "=====> Benchmarking KleidiAI Int8 DotProd Kernel <========\n",
      "Time taken: 12 milliseconds\n",
      "=================> Benchmark completed. <================= \n",
      "\n"
     ]
    }
   ],
   "source": [
    "import os\n",
    "import subprocess\n",
    "\n",
    "# Set environment variable\n",
    "os.environ[\"TOKENIZERS_PARALLELISM\"] = \"false\"\n",
    "\n",
    "# Define the build directory path\n",
    "build_dir = \"src/cpp/f32_i8_i4_dotprod/build\"\n",
    "\n",
    "# Create the build directory if it doesn't exist\n",
    "os.makedirs(build_dir, exist_ok=True)\n",
    "\n",
    "# Configure the project with CMake\n",
    "subprocess.run([\"cmake\", \"..\"], cwd=build_dir, check=True)\n",
    "\n",
    "# Build the project using Make\n",
    "subprocess.run([\"make\"], cwd=build_dir, check=True)\n",
    "\n",
    "print(\" \")\n",
    "print(\"=====> Benchmarking KleidiAI Int8 DotProd Kernel <========\")\n",
    "# Execute the benchmark binary\n",
    "subprocess.run([\"./benchmark_dotprod\"], cwd=build_dir)\n",
    "print(\"=================> Benchmark completed. <================= \\n\")"
   ]
  },
  {
   "cell_type": "markdown",
   "metadata": {},
   "source": [
    "Now run the cell below to start of the process, then copy the PID and paste it in the next cell to analyze the process."
   ]
  },
  {
   "cell_type": "code",
   "execution_count": 20,
   "metadata": {},
   "outputs": [
    {
     "name": "stdout",
     "output_type": "stream",
     "text": [
      "Main process ID: 11320\n"
     ]
    }
   ],
   "source": [
    "import subprocess\n",
    "import os\n",
    "import time\n",
    "import signal\n",
    "\n",
    "# Run the main process\n",
    "process = subprocess.Popen(\n",
    "    [\"src/cpp/f32_i8_i4_dotprod/build/kai_i8_dotprod_inf\"],\n",
    "    stdout=subprocess.PIPE,\n",
    "    stderr=subprocess.PIPE\n",
    ")\n",
    "\n",
    "print(f\"Main process ID: {process.pid}\")"
   ]
  },
  {
   "cell_type": "code",
   "execution_count": 21,
   "metadata": {},
   "outputs": [
    {
     "name": "stdout",
     "output_type": "stream",
     "text": [
      "\n",
      "PID      NAME             NEON     SVE      SVE2     MatMulIn DotProd  %TOTAL   TOTAL   \n",
      "ALL      ALL              55.66    0.00     0.00     0.00     6.84     100.00   33315   \n",
      "11320    kai_i8_dotprod_  55.66    0.00     0.00     0.00     6.84     100.00   33315   \n",
      "\n",
      "PID      NAME             NEON     SVE      SVE2     MatMulIn DotProd  %TOTAL   TOTAL   \n",
      "ALL      ALL              56.13    0.00     0.00     0.00     6.64     100.00   33290   \n",
      "11320    kai_i8_dotprod_  56.13    0.00     0.00     0.00     6.64     100.00   33290   \n",
      "^C\n"
     ]
    }
   ],
   "source": [
    "!sudo ./processwatch/processwatch -p 11320 -f HasNEON -f HasSVE -f HasSVE2 -f HasMatMulInt8 -f HasDotProd "
   ]
  },
  {
   "cell_type": "code",
   "execution_count": 22,
   "metadata": {},
   "outputs": [],
   "source": [
    "import os\n",
    "import signal\n",
    "\n",
    "os.kill(process.pid, signal.SIGTERM)"
   ]
  },
  {
   "cell_type": "markdown",
   "metadata": {},
   "source": [
    "`Process Watch` should show you in the DotProd column that roughly 5% of the instructions utilize the dot product extension, indicating the kernel is successfully utilizing the acceleration extension. "
   ]
  },
  {
   "cell_type": "markdown",
   "metadata": {},
   "source": [
    "## i8mm Extension  \n",
    "\n",
    "The next extension we will use is **i8mm**, which leverages the **SMMLA** instruction to efficiently perform **matrix multiply-accumulate** operations on **8-bit integer data types**. This extension is designed for small matrix multiplications, operating on **2×8 and 8×2 matrices** of signed 8-bit integers and producing a **2×2 matrix of 32-bit results**, which are then accumulated into a destination register.  \n",
    "\n",
    "### **How SMMLA Works**  \n",
    "\n",
    "This vector instruction takes two **16-element signed 8-bit vectors** and interprets them as small matrices:  \n",
    "- the **first source vector** is treated as a **2×8 matrix**  \n",
    "- the **second source vector** is treated as an **8×2 matrix**.  \n",
    "\n",
    "The computation proceeds in two steps:  \n",
    "\n",
    "1. **Matrix Multiplication**: The two matrices are multiplied, yielding a **2×2 matrix of 32-bit integer products**.  \n",
    "2. **Accumulate Results**: Each element of this **2×2 matrix** is added to the corresponding element in the **destination vector**, accumulating results efficiently.  \n",
    "\n",
    "Since **SMMLA** performs **eight parallel dot-product computations** per output element, it can execute **eight multiply-accumulate operations simultaneously**.\n",
    "\n",
    "### **Performance Characteristics**  \n",
    "\n",
    "SMMLA is optimized for **high throughput**, designed to **match or exceed the combined throughput of two SDOT instructions** in a scalar context by increasing parallelism. For architectures implementing **i8mm**, this results in:  \n",
    "\n",
    "- **High efficiency** in performing multiple **multiply-accumulate operations** in parallel.  \n",
    "- **Optimized matrix computations** for **dot-product-based workloads**.  \n",
    "\n",
    "In summary, **SMMLA** leverages the **i8mm extension** to accelerate **small matrix multiplications**, combining multiple **8-bit multiply-accumulate operations** in a single instruction. This makes it a powerful tool for **high-performance computing tasks** on **Arm processors**.\n"
   ]
  },
  {
   "cell_type": "code",
   "execution_count": 23,
   "metadata": {},
   "outputs": [
    {
     "name": "stdout",
     "output_type": "stream",
     "text": [
      "Writing src/cpp/f32_i8_i4_i8mm/kernel.cpp\n"
     ]
    }
   ],
   "source": [
    "%%writefile src/cpp/f32_i8_i4_i8mm/kernel.cpp\n",
    "\n",
    "#include <arm_neon.h>\n",
    "#include \"kai_matmul_clamp_f32_qsi8d32p4x8_qsi4c32p4x8_8x4x32_neon_i8mm.h\"\n",
    "#include \"kai_matmul_clamp_f32_qsi8d32p_qsi4c32p_interface.h\"\n",
    "\n",
    "\n",
    "constexpr kai_matmul_clamp_f32_qsi8d32p_qsi4c32p_ukernel ukernel{\n",
    "    kai_get_m_step_matmul_clamp_f32_qsi8d32p4x8_qsi4c32p4x8_8x4x32_neon_i8mm,\n",
    "    kai_get_n_step_matmul_clamp_f32_qsi8d32p4x8_qsi4c32p4x8_8x4x32_neon_i8mm,\n",
    "    kai_get_mr_matmul_clamp_f32_qsi8d32p4x8_qsi4c32p4x8_8x4x32_neon_i8mm,\n",
    "    kai_get_nr_matmul_clamp_f32_qsi8d32p4x8_qsi4c32p4x8_8x4x32_neon_i8mm,\n",
    "    kai_get_kr_matmul_clamp_f32_qsi8d32p4x8_qsi4c32p4x8_8x4x32_neon_i8mm,\n",
    "    kai_get_sr_matmul_clamp_f32_qsi8d32p4x8_qsi4c32p4x8_8x4x32_neon_i8mm,\n",
    "    kai_get_lhs_packed_offset_matmul_clamp_f32_qsi8d32p4x8_qsi4c32p4x8_8x4x32_neon_i8mm,\n",
    "    kai_get_rhs_packed_offset_matmul_clamp_f32_qsi8d32p4x8_qsi4c32p4x8_8x4x32_neon_i8mm,\n",
    "    kai_get_dst_offset_matmul_clamp_f32_qsi8d32p4x8_qsi4c32p4x8_8x4x32_neon_i8mm,\n",
    "    kai_get_dst_size_matmul_clamp_f32_qsi8d32p4x8_qsi4c32p4x8_8x4x32_neon_i8mm,\n",
    "    kai_run_matmul_clamp_f32_qsi8d32p4x8_qsi4c32p4x8_8x4x32_neon_i8mm};\n",
    "\n"
   ]
  },
  {
   "cell_type": "markdown",
   "metadata": {},
   "source": [
    "## Understanding the i8mm Microkernel\n",
    "\n",
    "This kernel follows the same structured naming convention as before, but now introduces **quantized 8-bit and 4-bit integer data types**.\n",
    "\n",
    "### **Destination (`dst_info`)**  \n",
    "- **`f32`**: The output is a **32-bit floating-point tensor**.\n",
    "\n",
    "### **Left-Hand Side (`lhs_info`)**  \n",
    "- **`qsi8d32p`**:  \n",
    "  - **`q`**: quantized tensor  \n",
    "  - **`s`**: symmetric quantization  \n",
    "  - **`i8`**: 8-bit integer format (`int8`)  \n",
    "  - **`d32`**: per-dimension quantization  \n",
    "  - **`p`**: packed matrix  \n",
    "\n",
    "### **Right-Hand Side (`rhs_info`)**  \n",
    "- **`qsi4c32p`**:  \n",
    "  - **`q`**: quantized tensor  \n",
    "  - **`s`**: symmetric quantization  \n",
    "  - **`i4`**: 4-bit integer format (`int4`)  \n",
    "  - **`c32`**: per-group quantization (one scale per 32 elements)  \n",
    "  - **`p`**: packed matrix."
   ]
  },
  {
   "cell_type": "markdown",
   "metadata": {},
   "source": [
    "### Build and Run "
   ]
  },
  {
   "cell_type": "code",
   "execution_count": 24,
   "metadata": {},
   "outputs": [
    {
     "name": "stdout",
     "output_type": "stream",
     "text": [
      "-- The C compiler identification is GNU 11.4.0\n",
      "-- The CXX compiler identification is GNU 11.4.0\n",
      "-- Detecting C compiler ABI info\n",
      "-- Detecting C compiler ABI info - done\n",
      "-- Check for working C compiler: /usr/bin/cc - skipped\n",
      "-- Detecting C compile features\n",
      "-- Detecting C compile features - done\n",
      "-- Detecting CXX compiler ABI info\n",
      "-- Detecting CXX compiler ABI info - done\n",
      "-- Check for working CXX compiler: /usr/bin/c++ - skipped\n",
      "-- Detecting CXX compile features\n",
      "-- Detecting CXX compile features - done\n",
      "-- Configuring done\n",
      "-- Generating done\n",
      "-- Build files have been written to: /home/ubuntu/AI-on-Arm/src/cpp/f32_i8_i4_i8mm/build\n",
      "[  5%] \u001b[32mBuilding CXX object CMakeFiles/benchmark_i8_i8mm.dir/benchmark_i8_i8mm.cpp.o\u001b[0m\n",
      "[ 11%] \u001b[32mBuilding CXX object CMakeFiles/benchmark_i8_i8mm.dir/kernel.cpp.o\u001b[0m\n",
      "[ 16%] \u001b[32mBuilding C object CMakeFiles/benchmark_i8_i8mm.dir/home/ubuntu/AI-on-Arm/kleidiai/kai/ukernels/matmul/matmul_clamp_f32_qsi8d32p_qsi4c32p/kai_matmul_clamp_f32_qsi8d32p4x8_qsi4c32p4x8_8x4x32_neon_i8mm.c.o\u001b[0m\n",
      "[ 22%] \u001b[32mBuilding C object CMakeFiles/benchmark_i8_i8mm.dir/home/ubuntu/AI-on-Arm/kleidiai/kai/ukernels/matmul/pack/kai_rhs_pack_nxk_qsi4c32pscalef16_qsu4c32s16s0.c.o\u001b[0m\n",
      "[ 27%] \u001b[32mBuilding C object CMakeFiles/benchmark_i8_i8mm.dir/home/ubuntu/AI-on-Arm/kleidiai/kai/ukernels/matmul/pack/kai_lhs_quant_pack_qsi8d32p_f32.c.o\u001b[0m\n",
      "[ 33%] \u001b[32m\u001b[1mLinking CXX executable benchmark_i8_i8mm\u001b[0m\n",
      "[ 33%] Built target benchmark_i8_i8mm\n",
      "[ 38%] \u001b[32mBuilding CXX object CMakeFiles/benchmark_i8_i8mm_scaling.dir/benchmark_i8_i8mm_scaling.cpp.o\u001b[0m\n",
      "[ 44%] \u001b[32mBuilding CXX object CMakeFiles/benchmark_i8_i8mm_scaling.dir/kernel.cpp.o\u001b[0m\n",
      "[ 50%] \u001b[32mBuilding C object CMakeFiles/benchmark_i8_i8mm_scaling.dir/home/ubuntu/AI-on-Arm/kleidiai/kai/ukernels/matmul/matmul_clamp_f32_qsi8d32p_qsi4c32p/kai_matmul_clamp_f32_qsi8d32p4x8_qsi4c32p4x8_8x4x32_neon_i8mm.c.o\u001b[0m\n",
      "[ 55%] \u001b[32mBuilding C object CMakeFiles/benchmark_i8_i8mm_scaling.dir/home/ubuntu/AI-on-Arm/kleidiai/kai/ukernels/matmul/pack/kai_rhs_pack_nxk_qsi4c32pscalef16_qsu4c32s16s0.c.o\u001b[0m\n",
      "[ 61%] \u001b[32mBuilding C object CMakeFiles/benchmark_i8_i8mm_scaling.dir/home/ubuntu/AI-on-Arm/kleidiai/kai/ukernels/matmul/pack/kai_lhs_quant_pack_qsi8d32p_f32.c.o\u001b[0m\n",
      "[ 66%] \u001b[32m\u001b[1mLinking CXX executable benchmark_i8_i8mm_scaling\u001b[0m\n",
      "[ 66%] Built target benchmark_i8_i8mm_scaling\n",
      "[ 72%] \u001b[32mBuilding CXX object CMakeFiles/kai_i8_i8mm_inf.dir/kai_i8_i8mm_inf.cpp.o\u001b[0m\n",
      "[ 77%] \u001b[32mBuilding CXX object CMakeFiles/kai_i8_i8mm_inf.dir/kernel.cpp.o\u001b[0m\n",
      "[ 83%] \u001b[32mBuilding C object CMakeFiles/kai_i8_i8mm_inf.dir/home/ubuntu/AI-on-Arm/kleidiai/kai/ukernels/matmul/matmul_clamp_f32_qsi8d32p_qsi4c32p/kai_matmul_clamp_f32_qsi8d32p4x8_qsi4c32p4x8_8x4x32_neon_i8mm.c.o\u001b[0m\n",
      "[ 88%] \u001b[32mBuilding C object CMakeFiles/kai_i8_i8mm_inf.dir/home/ubuntu/AI-on-Arm/kleidiai/kai/ukernels/matmul/pack/kai_rhs_pack_nxk_qsi4c32pscalef16_qsu4c32s16s0.c.o\u001b[0m\n",
      "[ 94%] \u001b[32mBuilding C object CMakeFiles/kai_i8_i8mm_inf.dir/home/ubuntu/AI-on-Arm/kleidiai/kai/ukernels/matmul/pack/kai_lhs_quant_pack_qsi8d32p_f32.c.o\u001b[0m\n",
      "[100%] \u001b[32m\u001b[1mLinking CXX executable kai_i8_i8mm_inf\u001b[0m\n",
      "[100%] Built target kai_i8_i8mm_inf\n",
      " \n",
      "=====> Benchmarking KleidiAI Int8 I8MM Kernel <========\n",
      "Time taken: 8 milliseconds\n",
      "===========> Benchmark completed. <=============== \n",
      "\n"
     ]
    }
   ],
   "source": [
    "import os\n",
    "import subprocess\n",
    "\n",
    "# Set environment variable\n",
    "os.environ[\"TOKENIZERS_PARALLELISM\"] = \"false\"\n",
    "\n",
    "# Define the build directory path\n",
    "build_dir = \"src/cpp/f32_i8_i4_i8mm/build\"\n",
    "\n",
    "# Create the build directory if it doesn't exist\n",
    "os.makedirs(build_dir, exist_ok=True)\n",
    "\n",
    "# Configure the project with CMake\n",
    "subprocess.run([\"cmake\", \"..\"], cwd=build_dir, check=True)\n",
    "\n",
    "# Build the project using Make\n",
    "subprocess.run([\"make\"], cwd=build_dir, check=True)\n",
    "\n",
    "print(\" \")\n",
    "print(\"=====> Benchmarking KleidiAI Int8 I8MM Kernel <========\")\n",
    "# Execute the benchmark binary\n",
    "subprocess.run([\"./benchmark_i8_i8mm\"], cwd=build_dir)\n",
    "print(\"===========> Benchmark completed. <=============== \\n\")\n"
   ]
  },
  {
   "cell_type": "code",
   "execution_count": 25,
   "metadata": {},
   "outputs": [
    {
     "name": "stdout",
     "output_type": "stream",
     "text": [
      "Main process ID: 11488\n"
     ]
    }
   ],
   "source": [
    "import subprocess\n",
    "import os\n",
    "import time\n",
    "import signal\n",
    "\n",
    "# Run the main process\n",
    "process = subprocess.Popen(\n",
    "    [\"src/cpp/f32_i8_i4_i8mm/build/kai_i8_i8mm_inf\"],\n",
    "    stdout=subprocess.PIPE,\n",
    "    stderr=subprocess.PIPE\n",
    ")\n",
    "\n",
    "print(f\"Main process ID: {process.pid}\")\n"
   ]
  },
  {
   "cell_type": "code",
   "execution_count": 26,
   "metadata": {},
   "outputs": [
    {
     "name": "stdout",
     "output_type": "stream",
     "text": [
      "\n",
      "PID      NAME             NEON     SVE      SVE2     MatMulIn DotProd  %TOTAL   TOTAL   \n",
      "ALL      ALL              38.87    0.00     0.00     6.49     0.00     100.00   33304   \n",
      "11488    kai_i8_i8mm_inf  38.87    0.00     0.00     6.49     0.00     100.00   33304   \n",
      "^C\n"
     ]
    }
   ],
   "source": [
    "!sudo ./processwatch/processwatch -p 11488 -f HasNEON -f HasSVE -f HasSVE2 -f HasMatMulInt8 -f HasDotProd "
   ]
  },
  {
   "cell_type": "code",
   "execution_count": 27,
   "metadata": {},
   "outputs": [],
   "source": [
    "import os\n",
    "import signal\n",
    "\n",
    "os.kill(process.pid, signal.SIGTERM)"
   ]
  },
  {
   "cell_type": "markdown",
   "metadata": {},
   "source": [
    "### **Plot Latency Scaling**  \n",
    "\n",
    "Now that we have successfully utilized the **Arm Neoverse** hardware extensions, let's benchmark their performance **against each other** across different matrix sizes.  \n",
    "\n",
    "As a baseline, we will also include the **OpenBLAS** library, which is the **standard open-source backend** for highly optimized matrix multiplications. It is commonly used as the default CPU backend for **PyTorch**.  \n",
    "\n",
    "Next, we will define a set of matrix sizes and measure **matrix multiplication latency** using the following cell.\n"
   ]
  },
  {
   "cell_type": "code",
   "execution_count": 28,
   "metadata": {},
   "outputs": [
    {
     "name": "stdout",
     "output_type": "stream",
     "text": [
      "Overwriting src/cpp/common/sizes.cpp\n"
     ]
    }
   ],
   "source": [
    "%%writefile src/cpp/common/sizes.cpp\n",
    "\n",
    "int sizes[] = {32, 64, 128, 256, 512, 1024, 2048};"
   ]
  },
  {
   "cell_type": "markdown",
   "metadata": {},
   "source": [
    "### Build and Benchmark Scalability"
   ]
  },
  {
   "cell_type": "code",
   "execution_count": 29,
   "metadata": {},
   "outputs": [
    {
     "name": "stdout",
     "output_type": "stream",
     "text": [
      "Building in src/cpp/f32_f32_f32p/build...\n",
      "-- Configuring done\n",
      "-- Generating done\n",
      "-- Build files have been written to: /home/ubuntu/AI-on-Arm/src/cpp/f32_f32_f32p/build\n",
      "\u001b[35m\u001b[1mScanning dependencies of target benchmark_f32\u001b[0m\n",
      "\u001b[35m\u001b[1mConsolidate compiler generated dependencies of target benchmark_f32\u001b[0m\n",
      "[ 33%] Built target benchmark_f32\n",
      "\u001b[35m\u001b[1mScanning dependencies of target benchmark_f32_scaling\u001b[0m\n",
      "\u001b[35m\u001b[1mConsolidate compiler generated dependencies of target benchmark_f32_scaling\u001b[0m\n",
      "[ 38%] \u001b[32mBuilding CXX object CMakeFiles/benchmark_f32_scaling.dir/benchmark_f32_scaling.cpp.o\u001b[0m\n",
      "[ 44%] \u001b[32m\u001b[1mLinking CXX executable benchmark_f32_scaling\u001b[0m\n",
      "[ 66%] Built target benchmark_f32_scaling\n",
      "\u001b[35m\u001b[1mScanning dependencies of target kai_f32_inf\u001b[0m\n",
      "\u001b[35m\u001b[1mConsolidate compiler generated dependencies of target kai_f32_inf\u001b[0m\n",
      "[100%] Built target kai_f32_inf\n",
      "Running benchmark_f32_scaling...\n",
      "Building in src/cpp/f16_f16_f16p/build...\n",
      "-- Configuring done\n",
      "-- Generating done\n",
      "-- Build files have been written to: /home/ubuntu/AI-on-Arm/src/cpp/f16_f16_f16p/build\n",
      "\u001b[35m\u001b[1mConsolidate compiler generated dependencies of target benchmark_f16\u001b[0m\n",
      "[ 33%] Built target benchmark_f16\n",
      "\u001b[35m\u001b[1mConsolidate compiler generated dependencies of target benchmark_f16_scaling\u001b[0m\n",
      "[ 40%] \u001b[32mBuilding CXX object CMakeFiles/benchmark_f16_scaling.dir/benchmark_f16_scaling.cpp.o\u001b[0m\n",
      "[ 46%] \u001b[32m\u001b[1mLinking CXX executable benchmark_f16_scaling\u001b[0m\n",
      "[ 66%] Built target benchmark_f16_scaling\n",
      "\u001b[35m\u001b[1mConsolidate compiler generated dependencies of target kai_f16_inf\u001b[0m\n",
      "[100%] Built target kai_f16_inf\n",
      "Running benchmark_f16_scaling...\n",
      "Building in src/cpp/f32_i8_i4_dotprod/build...\n",
      "-- Configuring done\n",
      "-- Generating done\n",
      "-- Build files have been written to: /home/ubuntu/AI-on-Arm/src/cpp/f32_i8_i4_dotprod/build\n",
      "\u001b[35m\u001b[1mConsolidate compiler generated dependencies of target benchmark_dotprod\u001b[0m\n",
      "[ 33%] Built target benchmark_dotprod\n",
      "\u001b[35m\u001b[1mConsolidate compiler generated dependencies of target benchmark_dotprod_scaling\u001b[0m\n",
      "[ 38%] \u001b[32mBuilding CXX object CMakeFiles/benchmark_dotprod_scaling.dir/benchmark_i8_dotprod_scaling.cpp.o\u001b[0m\n",
      "[ 44%] \u001b[32m\u001b[1mLinking CXX executable benchmark_dotprod_scaling\u001b[0m\n",
      "[ 66%] Built target benchmark_dotprod_scaling\n",
      "\u001b[35m\u001b[1mConsolidate compiler generated dependencies of target kai_i8_dotprod_inf\u001b[0m\n",
      "[100%] Built target kai_i8_dotprod_inf\n",
      "Running benchmark_dotprod_scaling...\n",
      "Building in src/cpp/f32_i8_i4_i8mm/build...\n",
      "-- Configuring done\n",
      "-- Generating done\n",
      "-- Build files have been written to: /home/ubuntu/AI-on-Arm/src/cpp/f32_i8_i4_i8mm/build\n",
      "\u001b[35m\u001b[1mConsolidate compiler generated dependencies of target benchmark_i8_i8mm\u001b[0m\n",
      "[ 33%] Built target benchmark_i8_i8mm\n",
      "\u001b[35m\u001b[1mConsolidate compiler generated dependencies of target benchmark_i8_i8mm_scaling\u001b[0m\n",
      "[ 38%] \u001b[32mBuilding CXX object CMakeFiles/benchmark_i8_i8mm_scaling.dir/benchmark_i8_i8mm_scaling.cpp.o\u001b[0m\n",
      "[ 44%] \u001b[32m\u001b[1mLinking CXX executable benchmark_i8_i8mm_scaling\u001b[0m\n",
      "[ 66%] Built target benchmark_i8_i8mm_scaling\n",
      "\u001b[35m\u001b[1mConsolidate compiler generated dependencies of target kai_i8_i8mm_inf\u001b[0m\n",
      "[100%] Built target kai_i8_i8mm_inf\n",
      "Running benchmark_i8_i8mm_scaling...\n",
      "Building in src/cpp/blas/build...\n",
      "-- The CXX compiler identification is GNU 11.4.0\n",
      "-- Detecting CXX compiler ABI info\n",
      "-- Detecting CXX compiler ABI info - done\n",
      "-- Check for working CXX compiler: /usr/bin/c++ - skipped\n",
      "-- Detecting CXX compile features\n",
      "-- Detecting CXX compile features - done\n",
      "-- Looking for sgemm_\n",
      "-- Looking for sgemm_ - not found\n",
      "-- Looking for C++ include pthread.h\n",
      "-- Looking for C++ include pthread.h - found\n",
      "-- Performing Test CMAKE_HAVE_LIBC_PTHREAD\n",
      "-- Performing Test CMAKE_HAVE_LIBC_PTHREAD - Success\n",
      "-- Found Threads: TRUE  \n",
      "-- Looking for sgemm_\n",
      "-- Looking for sgemm_ - found\n",
      "-- Found BLAS: /usr/lib/aarch64-linux-gnu/libblas.so  \n",
      "-- BLAS library found: /usr/lib/aarch64-linux-gnu/libblas.so\n",
      "-- ARM architecture detected; adding NEON/SVE flags\n",
      "-- Configuring done\n",
      "-- Generating done\n",
      "-- Build files have been written to: /home/ubuntu/AI-on-Arm/src/cpp/blas/build\n",
      "[ 25%] \u001b[32mBuilding CXX object CMakeFiles/blas_scaling_benchmark.dir/benchmark_f32.cpp.o\u001b[0m\n",
      "[ 50%] \u001b[32m\u001b[1mLinking CXX executable blas_scaling_benchmark\u001b[0m\n",
      "[ 50%] Built target blas_scaling_benchmark\n",
      "[ 75%] \u001b[32mBuilding CXX object CMakeFiles/blas_f32_inf.dir/f32_inf.cpp.o\u001b[0m\n",
      "[100%] \u001b[32m\u001b[1mLinking CXX executable blas_f32_inf\u001b[0m\n",
      "[100%] Built target blas_f32_inf\n",
      "Running blas_scaling_benchmark...\n"
     ]
    }
   ],
   "source": [
    "import os\n",
    "import subprocess\n",
    "\n",
    "# Set environment variable\n",
    "os.environ[\"TOKENIZERS_PARALLELISM\"] = \"false\"\n",
    "\n",
    "# Define projects with their build directories and benchmark executables\n",
    "projects = {\n",
    "    \"src/cpp/f32_f32_f32p/build\": \"benchmark_f32_scaling\",\n",
    "    \"src/cpp/f16_f16_f16p/build\": \"benchmark_f16_scaling\",\n",
    "    \"src/cpp/f32_i8_i4_dotprod/build\": \"benchmark_dotprod_scaling\",\n",
    "    \"src/cpp/f32_i8_i4_i8mm/build\": \"benchmark_i8_i8mm_scaling\",\n",
    "    \"src/cpp/blas/build\": \"blas_scaling_benchmark\"\n",
    "}\n",
    "\n",
    "for build_dir, benchmark in projects.items():\n",
    "    os.makedirs(build_dir, exist_ok=True)\n",
    "    print(f\"Building in {build_dir}...\")\n",
    "    subprocess.run([\"cmake\", \"..\"], cwd=build_dir, check=True)\n",
    "    subprocess.run([\"make\"], cwd=build_dir, check=True)\n",
    "    print(f\"Running {benchmark}...\")\n",
    "    subprocess.run([f\"./{benchmark}\"], cwd=build_dir, check=True)\n"
   ]
  },
  {
   "cell_type": "markdown",
   "metadata": {},
   "source": [
    "## Plot the scaling results"
   ]
  },
  {
   "cell_type": "code",
   "execution_count": 30,
   "metadata": {},
   "outputs": [
    {
     "data": {
      "image/png": "[encoded data removed]",
      "text/plain": [
       "<Figure size 1200x600 with 1 Axes>"
      ]
     },
     "metadata": {},
     "output_type": "display_data"
    }
   ],
   "source": [
    "import matplotlib.pyplot as plt \n",
    "import numpy as np\n",
    "import pandas as pd \n",
    "\n",
    "# Load datasets\n",
    "f32_data = pd.read_csv(\"src/cpp/results/f32_scaling_results.csv\")\n",
    "f16_data = pd.read_csv(\"src/cpp/results/f16_scaling_results.csv\")\n",
    "int8_dotprod_data = pd.read_csv(\"src/cpp/results/i8_dotprod_scaling_results.csv\")\n",
    "int8_i8mm_data = pd.read_csv(\"src/cpp/results/i8_i8mm_scaling_results.csv\")\n",
    "blas_data = pd.read_csv(\"src/cpp/results/blas_f32_scaling_results.csv\")\n",
    "\n",
    "# Plotting the results\n",
    "plt.figure(figsize=(12, 6))\n",
    "\n",
    "# Plot each dataset\n",
    "plt.plot(f32_data['Size'], f32_data['Latency(us)'], label=\"FP32 NEON\", marker='o')\n",
    "plt.plot(f16_data['Size'], f16_data['Latency(us)'], label=\"FP16 NEON\", marker='s')\n",
    "plt.plot(int8_dotprod_data['Size'], int8_dotprod_data['Latency(us)'], label=\"INT8 Dot Product\", marker='^')\n",
    "plt.plot(int8_i8mm_data['Size'], int8_i8mm_data['Latency(us)'], label=\"INT8 I8MM\", marker='d')\n",
    "plt.plot(blas_data['Size'], blas_data['Latency(us)'], label=\"BLAS FP32\", marker='x', linestyle='--', linewidth=2)\n",
    "\n",
    "# Add labels and title\n",
    "plt.xlabel(\"Matrix Size\")\n",
    "plt.ylabel(\"Latency (µs)\")\n",
    "plt.title(\"Matrix Multiplication Latency for Different Data Types\")\n",
    "plt.yscale('log')  # Use log scale for latency if the values span multiple orders of magnitude\n",
    "plt.legend()\n",
    "plt.grid(True, which=\"both\", linestyle=\"--\", linewidth=0.5)\n",
    "\n",
    "# Show the plot\n",
    "plt.tight_layout()\n",
    "plt.show()\n",
    "\n"
   ]
  },
  {
   "cell_type": "markdown",
   "metadata": {},
   "source": [
    "From the scaling graph, the *x*-axis represents the matrix size, while the *y*-axis shows the matrix multiplication latency measured in microseconds. The graph clearly indicates that all implementations of KleidiAI matrix multiplications outperform the BLAS library. This suggests that, to optimize inference on Arm CPUs, it is highly beneficial to use the KleidiAI library as the backend for linear algebra operations.\n",
    "\n",
    "Among the implementations, the int8 matrix multiplication (i8mm extension) is the fastest. This performance advantage is intuitive because the SMMLA instructions execute multiple dot products in parallel, leveraging the hardware capabilities efficiently. The next best performer is the floating-point 16-bit kernel, which utilizes Neon vectors and SIMD processing to accelerate computations.\n",
    "\n",
    "**Let's now use KleidiAI as a backend to optimize the inference of the OpenELM Large Language Model.**"
   ]
  },
  {
   "cell_type": "markdown",
   "metadata": {},
   "source": [
    "---\n",
    "# **Quantizing a Large Language Model with KleidiAI**  \n",
    "\n",
    "Low-level languages like **C++ and Assembly** provide fine-grained control over CPU hardware but can slow down rapid experimentation with **generative AI models**. In contrast, high-level frameworks like **PyTorch** simplify model development but rely on complex internal processes.  \n",
    "\n",
    "For example, when you call a high-level function like:  \n",
    "\n",
    "```python\n",
    "torch.matmul(A, B)\n",
    "```\n",
    "\n",
    "PyTorch automatically dispatches the operation to optimized low-level kernels, such as those from BLAS or KleidiAI.\n",
    "\n",
    "To bridge the gap between Python's flexibility and specialized low-level performance, especially on Arm architectures, we need to integrate KleidiAI kernels into PyTorch. Fortunately, much of the groundwork has already been done by Arm engineers, allowing us to focus on implementation rather than integration.\n",
    "\n",
    "Let's start by exploring PyTorch’s 4-bit matrix multiplication operator, which leverages these optimized KleidiAI kernels for efficient computation.\n",
    "\n",
    "\n",
    "\n"
   ]
  },
  {
   "cell_type": "code",
   "execution_count": 31,
   "metadata": {},
   "outputs": [],
   "source": [
    "# some imports \n",
    "import torch \n",
    "import torch.nn as nn\n",
    "import torch.nn.functional as F \n",
    "\n",
    "from torch.testing._internal.common_quantization import _group_quantize_tensor_symmetric"
   ]
  },
  {
   "cell_type": "markdown",
   "metadata": {},
   "source": [
    "### Set Some `matmul` Hyperparameters \n",
    "Here we are going to set some dimensions for a matrix multiplication. "
   ]
  },
  {
   "cell_type": "code",
   "execution_count": 32,
   "metadata": {},
   "outputs": [],
   "source": [
    "in_features = 1024 # number of input channels of the matrix multiplication \n",
    "out_features = 2048 # number of output channels of the matrix multiplication \n",
    "groupsize = 32 # number of weights per quantization scale parameter"
   ]
  },
  {
   "cell_type": "markdown",
   "metadata": {},
   "source": [
    "#### Create the Floating-Point Matrices for the `matmul`"
   ]
  },
  {
   "cell_type": "code",
   "execution_count": 33,
   "metadata": {},
   "outputs": [],
   "source": [
    "weight = torch.randn(out_features, in_features, dtype=torch.float32) \n",
    "x = torch.randn(1, in_features, dtype=torch.float32)"
   ]
  },
  {
   "cell_type": "markdown",
   "metadata": {},
   "source": [
    "## **Using KleidiAI for Group Quantization**  \n",
    "\n",
    "In **Lab 1**, we explored **per-tensor** and **per-channel quantization**, observing the benefits of increasing **quantization granularity** from a single scale per tensor to a separate scale per channel. Now, we take this one step further with **per-group quantization**, also known as **group quantization**.  \n",
    "\n",
    "### **What is Group Quantization?**  \n",
    "Instead of treating each channel in the weight matrix independently, **group quantization** partitions the output channels into **$G$ groups**. For example, if the weight matrix **$\\mathbf{W}$** has **$m$ output channels**, each group contains **$\\frac{m}{G}$ contiguous weights** (though different grouping strategies can be used).  \n",
    "\n",
    "$$\n",
    "\\text{Groups} = \\{\\mathcal{G}_1, \\mathcal{G}_2, \\dots, \\mathcal{G}_G\\},\n",
    "$$  \n",
    "\n",
    "where each **$\\mathcal{G}_k$** is a set of channel indices.  \n",
    "\n",
    "### **Step 1: Compute the Scale Factor**  \n",
    "Each group **$\\mathcal{G}_k$** is quantized independently by computing a single **scale factor** **$S_{w_k}$**, found by taking the **maximum absolute value** within the group:\n",
    "\n",
    "$$\n",
    "S_{w_k} = \\frac{\\max_{i \\in \\mathcal{G}_k} \\bigl|\\mathbf{W}_i\\bigr|}{2^{b-1} - 1}.\n",
    "$$  \n",
    "\n",
    "where:  \n",
    "- **$\\mathbf{W}_i$** denotes the weights indexed by **$i$**,  \n",
    "- **$b$** is the quantization bit-width (e.g., **8 bits**).  \n",
    "\n",
    "### **Step 2: Quantization and Dequantization**  \n",
    "Once the scale factors are determined, we perform **two key operations**:\n",
    "\n",
    "1. **Quantization**  \n",
    "   Convert each weight into an integer representation by dividing by the scale factor and rounding:  \n",
    "\n",
    "   $$\n",
    "   Q_{w_i} = \\text{round}\\Bigl(\\frac{\\mathbf{W}_i}{S_{w_k}}\\Bigr)\n",
    "   \\quad\\text{for each } i \\in \\mathcal{G}_k.\n",
    "   $$  \n",
    "\n",
    "2. **Dequantization**  \n",
    "   Recover the approximate floating-point weights by multiplying by the same scale factor:  \n",
    "\n",
    "   $$\n",
    "   \\hat{\\mathbf{W}}_i = Q_{w_i} \\cdot S_{w_k}\n",
    "   \\quad\\text{for each } i \\in \\mathcal{G}_k.\n",
    "   $$  \n",
    "\n",
    "### **Using Torch for Group Quantization**  \n",
    "Luckily, **KleidiAI** has integrated this function directly into torch, making group quantization easy to implement.\n",
    "\n"
   ]
  },
  {
   "cell_type": "code",
   "execution_count": 34,
   "metadata": {},
   "outputs": [],
   "source": [
    "quantized_weights, scales_and_zeros = _group_quantize_tensor_symmetric(\n",
    "        weight.transpose(0,1).contiguous(), n_bit=4, groupsize=groupsize)"
   ]
  },
  {
   "cell_type": "markdown",
   "metadata": {},
   "source": [
    "### Look at the Shapes To See What Has Been Done "
   ]
  },
  {
   "cell_type": "code",
   "execution_count": 35,
   "metadata": {},
   "outputs": [
    {
     "name": "stdout",
     "output_type": "stream",
     "text": [
      "Full-precision weights: shape torch.Size([2048, 1024]) dtype torch.float32\n",
      "Prepared quantized_weights: shape torch.Size([65536, 16]) dtype torch.uint8\n",
      "Prepared scales_and_zeros: shape torch.Size([65536]) dtype torch.float32\n",
      " \n",
      "weight number equality:  1048576 == 1048576\n",
      "scales_and_zeros equality: shape 65536 == 65536\n"
     ]
    }
   ],
   "source": [
    "print(f\"Full-precision weights: shape {weight.shape} dtype {weight.dtype}\")\n",
    "print(f\"Prepared quantized_weights: shape {quantized_weights.shape} dtype {quantized_weights.dtype}\")\n",
    "print(f\"Prepared scales_and_zeros: shape {scales_and_zeros.shape} dtype {scales_and_zeros.dtype}\")\n",
    "print(\" \")\n",
    "print(\"weight number equality: \", quantized_weights.numel(), \"==\", weight.numel()//2)\n",
    "print(f\"scales_and_zeros equality: shape {scales_and_zeros.numel()} == {weight.numel()//groupsize}\")"
   ]
  },
  {
   "cell_type": "markdown",
   "metadata": {},
   "source": [
    "### **Explanation of the Prepared Weights Size**\n",
    "\n",
    "In the example above, the full-precision weights, originally stored as a `torch.float32` tensor with shape `[2048, 1024]`, have been converted into a `uint8` tensor with shape `[65536, 16]`. To understand this transformation, we can use the equality described in the previous cell. This equation defines the relationship between the number of elements in the full-precision weight tensor and the corresponding `int4` quantized weights. For clarity, it is written below:\n",
    "\n",
    "> **Note:** `.numel()` returns the total number of elements in a PyTorch tensor.\n",
    "\n",
    "```python\n",
    "quantzed_weights.numel() == weight.numel() // 2\n",
    "```\n",
    "\n",
    "To explain this relationship, let's recall the principles of 4-bit quantization. In this scheme, we need to quantize the weights from `float32` to `int4`. However, `int4` is not directly supported in PyTorch since most hardware manipulates memory in bytes (8 bits). As a result, two `int4` values are packed into a single byte (`uint8`), which is an 8-bit datatype.\n",
    "\n",
    "#### **Breaking Down the Equation**\n",
    "1. **Half the number of weights:**  \n",
    "   - Since each full-precision weight is mapped to a 4-bit representation, and two 4-bit values fit into a single byte, the required number of elements is halved.  \n",
    "   - This is captured by the term:  \n",
    "     ```python\n",
    "     weight.numel() // 2\n",
    "     ```\n",
    "\n",
    "2. **Storage for scale parameters:**  \n",
    "   - Each group of weights has a corresponding scale factor, stored in the scales_and_zero tensor. The number of groups used by the tensor is given by:  \n",
    "     ```python\n",
    "     weight.numel() // groupsize\n",
    "     ```\n",
    "   - Hence the size of the ```scales_and_zeros``` tensor is 65536 as once scale parameter is needed per group. \n",
    "\n",
    "\n",
    "### **But Why Does weight shape change**\n"
   ]
  },
  {
   "cell_type": "code",
   "execution_count": 36,
   "metadata": {},
   "outputs": [
    {
     "data": {
      "text/plain": [
       "torch.Size([65536, 16])"
      ]
     },
     "execution_count": 36,
     "metadata": {},
     "output_type": "execute_result"
    }
   ],
   "source": [
    "quantized_weights.shape"
   ]
  },
  {
   "cell_type": "markdown",
   "metadata": {},
   "source": [
    "The weight preparation function has performed group quantization, quantizing each group to a single row in the matrix. This gives `weight.numel()//groupsize` rows and `groupsize//2` columns."
   ]
  },
  {
   "cell_type": "markdown",
   "metadata": {},
   "source": [
    "# Packing the Weight \n",
    "\n",
    "After performing the quantization, as we saw with the KleidiAI C++ operators we must pack the weight into the required memory layout required to achieve fast inference using advanced Arm features. We can do that with the following code. \n",
    "\n",
    "***Note:*** *For the symmetric groupwise quantization scheme the  scales_and_zeros tensor is empty, as the scales are stored in the weight tensor itself.*** "
   ]
  },
  {
   "cell_type": "code",
   "execution_count": 37,
   "metadata": {},
   "outputs": [],
   "source": [
    "weight_int4pack = torch.ops.aten._dyn_quant_pack_4bit_weight(quantized_weights, scales_and_zeros, None, groupsize, in_features, out_features)"
   ]
  },
  {
   "cell_type": "markdown",
   "metadata": {},
   "source": [
    "### AP\tFunction To Use the Kleidi int4 Kernel "
   ]
  },
  {
   "cell_type": "code",
   "execution_count": 38,
   "metadata": {},
   "outputs": [],
   "source": [
    "def linear_forward_int4_symmetric_groupwise(x, weight, groupsize, in_features, out_features):\n",
    "    y = torch.ops.aten._dyn_quant_matmul_4bit(x, weight, groupsize, in_features, out_features)\n",
    "    return y"
   ]
  },
  {
   "cell_type": "code",
   "execution_count": 39,
   "metadata": {},
   "outputs": [],
   "source": [
    "out_int4 = linear_forward_int4_symmetric_groupwise(x, weight_int4pack, groupsize, in_features, out_features)"
   ]
  },
  {
   "cell_type": "markdown",
   "metadata": {},
   "source": [
    "## Let's Have a Look at the Quantization Error\n",
    "\n",
    "So up to now, we have quantized and run a matrix multiplication with the symmetric groupwise quantization scheme with the KleidiAI operators for high performance. Let's have a look at the output and compare it to the multiplication in full precision (`torch.float32`)"
   ]
  },
  {
   "cell_type": "code",
   "execution_count": 40,
   "metadata": {},
   "outputs": [
    {
     "name": "stdout",
     "output_type": "stream",
     "text": [
      "tensor([-30.5848, -16.6057, -13.6286,  -6.9680, -56.6460])\n",
      "tensor([-34.9065, -13.5908, -12.9205,  -7.7218, -58.3542])\n"
     ]
    }
   ],
   "source": [
    "out_baseline = torch.matmul(x, weight.T) # compute the baseline operation\n",
    "print(out_int4.flatten()[:5])\n",
    "print(out_baseline.flatten()[:5])\n",
    "error = (out_baseline - out_int4).abs()\n",
    "relative_error = error / out_baseline.abs().clamp(min=1e-12)"
   ]
  },
  {
   "cell_type": "markdown",
   "metadata": {},
   "source": [
    "The ouputs are fairly similar indicating the error introduced by symmetric groupwise quantization is small. Let's look at the distribution of quantization errors. "
   ]
  },
  {
   "cell_type": "code",
   "execution_count": 41,
   "metadata": {},
   "outputs": [
    {
     "data": {
      "image/png": "[encoded data removed]",
      "text/plain": [
       "<Figure size 1000x600 with 1 Axes>"
      ]
     },
     "metadata": {},
     "output_type": "display_data"
    }
   ],
   "source": [
    "import matplotlib.pyplot as plt\n",
    "import numpy as np\n",
    "\n",
    "data = relative_error.flatten().cpu().numpy()\n",
    "\n",
    "# Compute 1st and 99th percentile bounds\n",
    "lower, upper = np.percentile(data, [0, 90])\n",
    "\n",
    "# Define 100 bins between these two bounds\n",
    "bins = np.linspace(lower, upper, 101)  # 101 edges → 100 bins\n",
    "\n",
    "plt.figure(figsize=(10, 6))\n",
    "\n",
    "plt.hist(data, bins=bins, color='salmon', edgecolor='black', alpha=0.7, density=True)\n",
    "\n",
    "plt.title('Relative Quantization Error Distribution', fontsize=16)\n",
    "plt.xlabel('Relative Error (|baseline - int4| / |baseline|)', fontsize=14)\n",
    "plt.ylabel('Density', fontsize=14)\n",
    "plt.xlim(lower, upper)\n",
    "\n",
    "plt.grid(True, linestyle='--', alpha=0.5)\n",
    "plt.show()"
   ]
  },
  {
   "cell_type": "markdown",
   "metadata": {},
   "source": [
    "The plot should show a roughly Gaussian decreasing error with the majority of errors below 0.5, indicating we have successfuly quantized the matrix multiplication with less than a 5% relative quantization error. "
   ]
  },
  {
   "cell_type": "markdown",
   "metadata": {},
   "source": [
    "## Quantizing the OpenELM Model with KleidiAI\n",
    "\n",
    "Now that we’ve learned how to quantize a matrix multiplication — the core operation of the linear projection layer commonly used in large language models — we can create a custom int4 weight-only linear layer using the KleidiAI kernel with symmetric groupwise quantization. An incomplete implementation of this layer is provided in the cell below.\n",
    "\n",
    "**Exercise:** Your task is to complete the forward method of the `In4WeightOnlyKAILinear` class using the previously defined KleidiAI with PyTorch kernel. Make sure to handle the addition of the bias term if it is present!\n",
    "\n",
    "**NOTE** if you are stuck you can use an example solution at the end of the notbook."
   ]
  },
  {
   "cell_type": "code",
   "execution_count": 30,
   "metadata": {},
   "outputs": [],
   "source": [
    "class Int4WeightOnlyKAILinear(nn.Module):\n",
    "    def __init__(self, in_features, out_features, bias=True, groupsize=32): \n",
    "        super().__init__()\n",
    "        self.in_features = in_features\n",
    "        self.out_features = out_features\n",
    "        self.bias = bias \n",
    "\n",
    "        n_weights = (in_features * out_features)//2 \n",
    "        n_scales = ((in_features * out_features)//groupsize) * 2 \n",
    "        n_bias = out_features * 2 if self.bias else 0 \n",
    "        self.register_buffer(\n",
    "            \"weight\",\n",
    "            torch.empty((n_weights + n_scales + n_bias), dtype=torch.uint8)\n",
    "        )\n",
    "        self.groupsize = groupsize\n",
    "\n",
    "    def forward(self, x):\n",
    "        original_shape = x.shape\n",
    "        # Reshape to 2D: [batch * seq_len, in_features]\n",
    "        x_2d = x.view(-1, self.in_features)\n",
    "        \n",
    "        # =========== Your code goes here ============\n",
    "        raise NotImplementedError(\"You must write your code here!\")\n",
    "        # ============================================\n",
    "        \n",
    "        output_shape = original_shape[:-1] + (self.out_features,)\n",
    "        out = out.view(output_shape)\n",
    "        return out\n",
    "\n",
    "    def __repr__(self): \n",
    "        return f\"Int4WeightOnlyKAILinear(in_features={self.in_features}, out_features={self.out_features}, bias={self.bias is not None}\""
   ]
  },
  {
   "cell_type": "markdown",
   "metadata": {},
   "source": [
    "### Let's Run a Test To Make Sure Your Solution Is Correct"
   ]
  },
  {
   "cell_type": "code",
   "execution_count": 43,
   "metadata": {},
   "outputs": [
    {
     "data": {
      "text/html": [
       "<div style='color: green; font-size: 20px;'>Success! Test Passed</div>"
      ],
      "text/plain": [
       "<IPython.core.display.HTML object>"
      ]
     },
     "metadata": {},
     "output_type": "display_data"
    }
   ],
   "source": [
    "from IPython.display import display, HTML\n",
    "\n",
    "layer4bit = Int4WeightOnlyKAILinear(in_features, out_features, bias=False)\n",
    "x = torch.randn(1, in_features)\n",
    "out = layer4bit(x)\n",
    "if out.dtype == torch.float32 and out.shape == (1, out_features):\n",
    "    display(HTML(\"<div style='color: green; font-size: 20px;'>Success! Test Passed</div>\"))\n",
    "else: \n",
    "    display(HTML(\"<div style='color: red; font-size: 20px;'>Failed. Test Failed. Please try again.</div>\"))\n",
    "    "
   ]
  },
  {
   "cell_type": "markdown",
   "metadata": {},
   "source": [
    "If you have passed that test we can use the next cell to instantiate your new quantized layer with the weights of an normal full-precision `nn.Linear` layer "
   ]
  },
  {
   "cell_type": "code",
   "execution_count": 44,
   "metadata": {},
   "outputs": [],
   "source": [
    "def quantize_linear_layer(layer):\n",
    "    fp_weight = layer.weight.data.detach()\n",
    "    out_features = layer.out_features\n",
    "    in_features = layer.in_features\n",
    "    bias = layer.bias.data if layer.bias is not None else None\n",
    "\n",
    "    # quantize the weights \n",
    "    quantized_weight, scales_and_zeros = _group_quantize_tensor_symmetric(\n",
    "        fp_weight.transpose(0, 1).contiguous(), # full precision weight matrix from the original layer\n",
    "        n_bit=4,\n",
    "        groupsize=32, \n",
    "    )\n",
    "    scales_and_zeros = scales_and_zeros.to(torch.bfloat16)\n",
    "\n",
    "    # pack the weights \n",
    "    weight_int4pack = torch.ops.aten._dyn_quant_pack_4bit_weight(\n",
    "        quantized_weight, \n",
    "        scales_and_zeros, \n",
    "        bias, \n",
    "        groupsize,\n",
    "        in_features, \n",
    "        out_features\n",
    "    )\n",
    "\n",
    "    # create the your 4-bit quantized layer \n",
    "    use_bias = layer.bias is not None\n",
    "    layer4bit = Int4WeightOnlyKAILinear(in_features, out_features, use_bias)\n",
    "    layer4bit.weight = weight_int4pack\n",
    "    return layer4bit"
   ]
  },
  {
   "cell_type": "markdown",
   "metadata": {},
   "source": [
    "Next, we will define a functon to replace all `nn.Linear` layer of a PyTorch model (`nn.Module`) with our very own quantized `Int4WeightOnlyKAILinear`"
   ]
  },
  {
   "cell_type": "code",
   "execution_count": 45,
   "metadata": {},
   "outputs": [],
   "source": [
    "def quantize_model(model):\n",
    "    for name, child in model.named_children():\n",
    "        if isinstance(child, nn.Linear):\n",
    "            # Quantize the linear layer\n",
    "            quantized_layer = quantize_linear_layer(child)\n",
    "            setattr(model, name, quantized_layer)\n",
    "        else:\n",
    "            # Recursively apply to child modules\n",
    "            quantize_model(child)\n",
    "    return model"
   ]
  },
  {
   "cell_type": "markdown",
   "metadata": {},
   "source": [
    "Now let's load the OpenELM LLM that we want to quantize along with its tokenizer so we can prompt it. "
   ]
  },
  {
   "cell_type": "code",
   "execution_count": 47,
   "metadata": {},
   "outputs": [
    {
     "data": {
      "application/vnd.jupyter.widget-view+json": {
       "model_id": "7feeb37b437b44b28a246b90b940a8ab",
       "version_major": 2,
       "version_minor": 0
      },
      "text/plain": [
       "Loading checkpoint shards:   0%|          | 0/2 [00:00<?, ?it/s]"
      ]
     },
     "metadata": {},
     "output_type": "display_data"
    }
   ],
   "source": [
    "import torch\n",
    "import transformers\n",
    "from transformers import AutoModelForCausalLM, AutoTokenizer\n",
    "\n",
    "\n",
    "#model = AutoModelForCausalLM.from_pretrained(\"apple/OpenELM-3B-Instruct\", trust_remote_code=True)\n",
    "model = AutoModelForCausalLM.from_pretrained(\"apple/OpenELM-3B-Instruct\", trust_remote_code=True)\n",
    "tokenizer = AutoTokenizer.from_pretrained(\"meta-llama/Llama-2-7b-hf\", trust_remote_code=True)\n",
    "\n",
    "prompt = \"Quantization is the process of reducing the precision or/and activations in order to reduce the memory footprint of a model and improve its inference latency. In particular, weight-only symmetric quantization for language models\"\n",
    "inputs = tokenizer(prompt, return_tensors=\"pt\")"
   ]
  },
  {
   "cell_type": "markdown",
   "metadata": {},
   "source": [
    "Before we quantize however we should collect a sample of its output so that we can compare it the output once the model is quantized. This can serve as an empirical evaluation to see if anything is wrong. "
   ]
  },
  {
   "cell_type": "code",
   "execution_count": 48,
   "metadata": {},
   "outputs": [
    {
     "data": {
      "application/vnd.jupyter.widget-view+json": {
       "model_id": "b8ae922ee57d482e849891d4c76d4f96",
       "version_major": 2,
       "version_minor": 0
      },
      "text/plain": [
       "Textarea(value='Quantization is the process of reducing the precision or/and activations in order to reduce th…"
      ]
     },
     "metadata": {},
     "output_type": "display_data"
    }
   ],
   "source": [
    "import ipywidgets as widgets\n",
    "\n",
    "if tokenizer.pad_token is None:\n",
    "    tokenizer.pad_token = tokenizer.eos_token\n",
    "\n",
    "generated_ids = model.generate(inputs[\"input_ids\"], attention_mask=inputs[\"attention_mask\"], pad_token_id=tokenizer.pad_token_id, eos_token_id=tokenizer.eos_token_id, max_length=100)\n",
    "generated_text_fp = tokenizer.decode(generated_ids[0], skip_special_tokens=True)\n",
    "text_area = widgets.Textarea(value=generated_text_fp, rows=10, layout=widgets.Layout(width=\"100%\"))\n",
    "display(text_area)"
   ]
  },
  {
   "cell_type": "markdown",
   "metadata": {},
   "source": [
    "We should also measure the static memory consumption of the model which can serve as a baseline to compare against for when we quantize it. "
   ]
  },
  {
   "cell_type": "code",
   "execution_count": 49,
   "metadata": {},
   "outputs": [
    {
     "name": "stdout",
     "output_type": "stream",
     "text": [
      "Baseline memory consumption: 11.3 GB\n"
     ]
    }
   ],
   "source": [
    "import torch\n",
    "\n",
    "baseline_memory_consumption = 0  # Memory in bytes\n",
    "for param in model.parameters():  # Use model.named_parameters() to iterate over model parameters\n",
    "    baseline_memory_consumption += param.numel() * param.element_size()\n",
    "    \n",
    "# Sum memory of all buffers\n",
    "for buffer in model.buffers():\n",
    "    baseline_memory_consumption += buffer.numel() * buffer.element_size()\n",
    "\n",
    "baseline_memory_consumption_gb = baseline_memory_consumption / (1024 ** 3)\n",
    "\n",
    "print(f\"Baseline memory consumption: {baseline_memory_consumption_gb:.1f} GB\")"
   ]
  },
  {
   "cell_type": "markdown",
   "metadata": {},
   "source": [
    "Additionally, we can also measure its inference generation latency. This includes the time-to-first-token with the latency for generating an additional 20 tokens. Note that `model.generate()` uses a Key-Value Cache to improve generation speed. "
   ]
  },
  {
   "cell_type": "code",
   "execution_count": 50,
   "metadata": {},
   "outputs": [
    {
     "name": "stdout",
     "output_type": "stream",
     "text": [
      "Time taken: 6.2 Seconds\n"
     ]
    }
   ],
   "source": [
    "import time\n",
    "    \n",
    "baseline_latency = 0\n",
    "for _ in range(3):\n",
    "    st = time.time()\n",
    "    model.generate(inputs[\"input_ids\"], attention_mask=inputs[\"attention_mask\"], pad_token_id=tokenizer.pad_token_id, max_length=100)\n",
    "    et = time.time()\n",
    "    baseline_latency += (et - st) \n",
    "baseline_latency /= 3\n",
    "\n",
    "print(f\"Time taken: {baseline_latency:.1f} Seconds\")"
   ]
  },
  {
   "cell_type": "markdown",
   "metadata": {},
   "source": [
    "### Now Let's Use Our Function to Quantize the Model for 4-bit Inference With the KleidiAI Kernels. "
   ]
  },
  {
   "cell_type": "code",
   "execution_count": 51,
   "metadata": {},
   "outputs": [
    {
     "data": {
      "text/plain": [
       "OpenELMModel(\n",
       "  (token_embeddings): Embedding(32000, 3072)\n",
       "  (layers): ModuleList(\n",
       "    (0): OpenELMDecoderLayer(\n",
       "      (attn): OpenELMMultiHeadCausalAttention(\n",
       "        query_heads=12, key_heads=3, value_heads=3\n",
       "        (qkv_proj): Int4WeightOnlyKAILinear(in_features=3072, out_features=2304, bias=True\n",
       "        (pos_embedding): OpenELMRotaryEmbedding(\tmodel_dim=128, max_seq_length=4096, freq_constant=10000)\n",
       "        (q_norm): OpenELMRMSNorm(num_features=128, eps=1e-06)\n",
       "        (k_norm): OpenELMRMSNorm(num_features=128, eps=1e-06)\n",
       "        (out_proj): Int4WeightOnlyKAILinear(in_features=1536, out_features=3072, bias=True\n",
       "      )\n",
       "      (ffn): OpenELMFeedForwardNetwork(\n",
       "        (ffn_with_glu) : True\n",
       "        (proj_1): Int4WeightOnlyKAILinear(in_features=3072, out_features=3072, bias=True\n",
       "        (proj_2): Int4WeightOnlyKAILinear(in_features=1536, out_features=3072, bias=True\n",
       "        (act): SiLU()\n",
       "      )\n",
       "      (ffn_norm): OpenELMRMSNorm(num_features=3072, eps=1e-06)\n",
       "      (attn_norm): OpenELMRMSNorm(num_features=3072, eps=1e-06)\n",
       "    )\n",
       "    (1): OpenELMDecoderLayer(\n",
       "      (attn): OpenELMMultiHeadCausalAttention(\n",
       "        query_heads=12, key_heads=3, value_heads=3\n",
       "        (qkv_proj): Int4WeightOnlyKAILinear(in_features=3072, out_features=2304, bias=True\n",
       "        (pos_embedding): OpenELMRotaryEmbedding(\tmodel_dim=128, max_seq_length=4096, freq_constant=10000)\n",
       "        (q_norm): OpenELMRMSNorm(num_features=128, eps=1e-06)\n",
       "        (k_norm): OpenELMRMSNorm(num_features=128, eps=1e-06)\n",
       "        (out_proj): Int4WeightOnlyKAILinear(in_features=1536, out_features=3072, bias=True\n",
       "      )\n",
       "      (ffn): OpenELMFeedForwardNetwork(\n",
       "        (ffn_with_glu) : True\n",
       "        (proj_1): Int4WeightOnlyKAILinear(in_features=3072, out_features=3584, bias=True\n",
       "        (proj_2): Int4WeightOnlyKAILinear(in_features=1792, out_features=3072, bias=True\n",
       "        (act): SiLU()\n",
       "      )\n",
       "      (ffn_norm): OpenELMRMSNorm(num_features=3072, eps=1e-06)\n",
       "      (attn_norm): OpenELMRMSNorm(num_features=3072, eps=1e-06)\n",
       "    )\n",
       "    (2): OpenELMDecoderLayer(\n",
       "      (attn): OpenELMMultiHeadCausalAttention(\n",
       "        query_heads=12, key_heads=3, value_heads=3\n",
       "        (qkv_proj): Int4WeightOnlyKAILinear(in_features=3072, out_features=2304, bias=True\n",
       "        (pos_embedding): OpenELMRotaryEmbedding(\tmodel_dim=128, max_seq_length=4096, freq_constant=10000)\n",
       "        (q_norm): OpenELMRMSNorm(num_features=128, eps=1e-06)\n",
       "        (k_norm): OpenELMRMSNorm(num_features=128, eps=1e-06)\n",
       "        (out_proj): Int4WeightOnlyKAILinear(in_features=1536, out_features=3072, bias=True\n",
       "      )\n",
       "      (ffn): OpenELMFeedForwardNetwork(\n",
       "        (ffn_with_glu) : True\n",
       "        (proj_1): Int4WeightOnlyKAILinear(in_features=3072, out_features=4096, bias=True\n",
       "        (proj_2): Int4WeightOnlyKAILinear(in_features=2048, out_features=3072, bias=True\n",
       "        (act): SiLU()\n",
       "      )\n",
       "      (ffn_norm): OpenELMRMSNorm(num_features=3072, eps=1e-06)\n",
       "      (attn_norm): OpenELMRMSNorm(num_features=3072, eps=1e-06)\n",
       "    )\n",
       "    (3): OpenELMDecoderLayer(\n",
       "      (attn): OpenELMMultiHeadCausalAttention(\n",
       "        query_heads=12, key_heads=3, value_heads=3\n",
       "        (qkv_proj): Int4WeightOnlyKAILinear(in_features=3072, out_features=2304, bias=True\n",
       "        (pos_embedding): OpenELMRotaryEmbedding(\tmodel_dim=128, max_seq_length=4096, freq_constant=10000)\n",
       "        (q_norm): OpenELMRMSNorm(num_features=128, eps=1e-06)\n",
       "        (k_norm): OpenELMRMSNorm(num_features=128, eps=1e-06)\n",
       "        (out_proj): Int4WeightOnlyKAILinear(in_features=1536, out_features=3072, bias=True\n",
       "      )\n",
       "      (ffn): OpenELMFeedForwardNetwork(\n",
       "        (ffn_with_glu) : True\n",
       "        (proj_1): Int4WeightOnlyKAILinear(in_features=3072, out_features=5120, bias=True\n",
       "        (proj_2): Int4WeightOnlyKAILinear(in_features=2560, out_features=3072, bias=True\n",
       "        (act): SiLU()\n",
       "      )\n",
       "      (ffn_norm): OpenELMRMSNorm(num_features=3072, eps=1e-06)\n",
       "      (attn_norm): OpenELMRMSNorm(num_features=3072, eps=1e-06)\n",
       "    )\n",
       "    (4): OpenELMDecoderLayer(\n",
       "      (attn): OpenELMMultiHeadCausalAttention(\n",
       "        query_heads=16, key_heads=4, value_heads=4\n",
       "        (qkv_proj): Int4WeightOnlyKAILinear(in_features=3072, out_features=3072, bias=True\n",
       "        (pos_embedding): OpenELMRotaryEmbedding(\tmodel_dim=128, max_seq_length=4096, freq_constant=10000)\n",
       "        (q_norm): OpenELMRMSNorm(num_features=128, eps=1e-06)\n",
       "        (k_norm): OpenELMRMSNorm(num_features=128, eps=1e-06)\n",
       "        (out_proj): Int4WeightOnlyKAILinear(in_features=2048, out_features=3072, bias=True\n",
       "      )\n",
       "      (ffn): OpenELMFeedForwardNetwork(\n",
       "        (ffn_with_glu) : True\n",
       "        (proj_1): Int4WeightOnlyKAILinear(in_features=3072, out_features=5632, bias=True\n",
       "        (proj_2): Int4WeightOnlyKAILinear(in_features=2816, out_features=3072, bias=True\n",
       "        (act): SiLU()\n",
       "      )\n",
       "      (ffn_norm): OpenELMRMSNorm(num_features=3072, eps=1e-06)\n",
       "      (attn_norm): OpenELMRMSNorm(num_features=3072, eps=1e-06)\n",
       "    )\n",
       "    (5): OpenELMDecoderLayer(\n",
       "      (attn): OpenELMMultiHeadCausalAttention(\n",
       "        query_heads=16, key_heads=4, value_heads=4\n",
       "        (qkv_proj): Int4WeightOnlyKAILinear(in_features=3072, out_features=3072, bias=True\n",
       "        (pos_embedding): OpenELMRotaryEmbedding(\tmodel_dim=128, max_seq_length=4096, freq_constant=10000)\n",
       "        (q_norm): OpenELMRMSNorm(num_features=128, eps=1e-06)\n",
       "        (k_norm): OpenELMRMSNorm(num_features=128, eps=1e-06)\n",
       "        (out_proj): Int4WeightOnlyKAILinear(in_features=2048, out_features=3072, bias=True\n",
       "      )\n",
       "      (ffn): OpenELMFeedForwardNetwork(\n",
       "        (ffn_with_glu) : True\n",
       "        (proj_1): Int4WeightOnlyKAILinear(in_features=3072, out_features=6144, bias=True\n",
       "        (proj_2): Int4WeightOnlyKAILinear(in_features=3072, out_features=3072, bias=True\n",
       "        (act): SiLU()\n",
       "      )\n",
       "      (ffn_norm): OpenELMRMSNorm(num_features=3072, eps=1e-06)\n",
       "      (attn_norm): OpenELMRMSNorm(num_features=3072, eps=1e-06)\n",
       "    )\n",
       "    (6): OpenELMDecoderLayer(\n",
       "      (attn): OpenELMMultiHeadCausalAttention(\n",
       "        query_heads=16, key_heads=4, value_heads=4\n",
       "        (qkv_proj): Int4WeightOnlyKAILinear(in_features=3072, out_features=3072, bias=True\n",
       "        (pos_embedding): OpenELMRotaryEmbedding(\tmodel_dim=128, max_seq_length=4096, freq_constant=10000)\n",
       "        (q_norm): OpenELMRMSNorm(num_features=128, eps=1e-06)\n",
       "        (k_norm): OpenELMRMSNorm(num_features=128, eps=1e-06)\n",
       "        (out_proj): Int4WeightOnlyKAILinear(in_features=2048, out_features=3072, bias=True\n",
       "      )\n",
       "      (ffn): OpenELMFeedForwardNetwork(\n",
       "        (ffn_with_glu) : True\n",
       "        (proj_1): Int4WeightOnlyKAILinear(in_features=3072, out_features=6656, bias=True\n",
       "        (proj_2): Int4WeightOnlyKAILinear(in_features=3328, out_features=3072, bias=True\n",
       "        (act): SiLU()\n",
       "      )\n",
       "      (ffn_norm): OpenELMRMSNorm(num_features=3072, eps=1e-06)\n",
       "      (attn_norm): OpenELMRMSNorm(num_features=3072, eps=1e-06)\n",
       "    )\n",
       "    (7): OpenELMDecoderLayer(\n",
       "      (attn): OpenELMMultiHeadCausalAttention(\n",
       "        query_heads=16, key_heads=4, value_heads=4\n",
       "        (qkv_proj): Int4WeightOnlyKAILinear(in_features=3072, out_features=3072, bias=True\n",
       "        (pos_embedding): OpenELMRotaryEmbedding(\tmodel_dim=128, max_seq_length=4096, freq_constant=10000)\n",
       "        (q_norm): OpenELMRMSNorm(num_features=128, eps=1e-06)\n",
       "        (k_norm): OpenELMRMSNorm(num_features=128, eps=1e-06)\n",
       "        (out_proj): Int4WeightOnlyKAILinear(in_features=2048, out_features=3072, bias=True\n",
       "      )\n",
       "      (ffn): OpenELMFeedForwardNetwork(\n",
       "        (ffn_with_glu) : True\n",
       "        (proj_1): Int4WeightOnlyKAILinear(in_features=3072, out_features=7168, bias=True\n",
       "        (proj_2): Int4WeightOnlyKAILinear(in_features=3584, out_features=3072, bias=True\n",
       "        (act): SiLU()\n",
       "      )\n",
       "      (ffn_norm): OpenELMRMSNorm(num_features=3072, eps=1e-06)\n",
       "      (attn_norm): OpenELMRMSNorm(num_features=3072, eps=1e-06)\n",
       "    )\n",
       "    (8): OpenELMDecoderLayer(\n",
       "      (attn): OpenELMMultiHeadCausalAttention(\n",
       "        query_heads=16, key_heads=4, value_heads=4\n",
       "        (qkv_proj): Int4WeightOnlyKAILinear(in_features=3072, out_features=3072, bias=True\n",
       "        (pos_embedding): OpenELMRotaryEmbedding(\tmodel_dim=128, max_seq_length=4096, freq_constant=10000)\n",
       "        (q_norm): OpenELMRMSNorm(num_features=128, eps=1e-06)\n",
       "        (k_norm): OpenELMRMSNorm(num_features=128, eps=1e-06)\n",
       "        (out_proj): Int4WeightOnlyKAILinear(in_features=2048, out_features=3072, bias=True\n",
       "      )\n",
       "      (ffn): OpenELMFeedForwardNetwork(\n",
       "        (ffn_with_glu) : True\n",
       "        (proj_1): Int4WeightOnlyKAILinear(in_features=3072, out_features=8192, bias=True\n",
       "        (proj_2): Int4WeightOnlyKAILinear(in_features=4096, out_features=3072, bias=True\n",
       "        (act): SiLU()\n",
       "      )\n",
       "      (ffn_norm): OpenELMRMSNorm(num_features=3072, eps=1e-06)\n",
       "      (attn_norm): OpenELMRMSNorm(num_features=3072, eps=1e-06)\n",
       "    )\n",
       "    (9): OpenELMDecoderLayer(\n",
       "      (attn): OpenELMMultiHeadCausalAttention(\n",
       "        query_heads=16, key_heads=4, value_heads=4\n",
       "        (qkv_proj): Int4WeightOnlyKAILinear(in_features=3072, out_features=3072, bias=True\n",
       "        (pos_embedding): OpenELMRotaryEmbedding(\tmodel_dim=128, max_seq_length=4096, freq_constant=10000)\n",
       "        (q_norm): OpenELMRMSNorm(num_features=128, eps=1e-06)\n",
       "        (k_norm): OpenELMRMSNorm(num_features=128, eps=1e-06)\n",
       "        (out_proj): Int4WeightOnlyKAILinear(in_features=2048, out_features=3072, bias=True\n",
       "      )\n",
       "      (ffn): OpenELMFeedForwardNetwork(\n",
       "        (ffn_with_glu) : True\n",
       "        (proj_1): Int4WeightOnlyKAILinear(in_features=3072, out_features=8704, bias=True\n",
       "        (proj_2): Int4WeightOnlyKAILinear(in_features=4352, out_features=3072, bias=True\n",
       "        (act): SiLU()\n",
       "      )\n",
       "      (ffn_norm): OpenELMRMSNorm(num_features=3072, eps=1e-06)\n",
       "      (attn_norm): OpenELMRMSNorm(num_features=3072, eps=1e-06)\n",
       "    )\n",
       "    (10): OpenELMDecoderLayer(\n",
       "      (attn): OpenELMMultiHeadCausalAttention(\n",
       "        query_heads=16, key_heads=4, value_heads=4\n",
       "        (qkv_proj): Int4WeightOnlyKAILinear(in_features=3072, out_features=3072, bias=True\n",
       "        (pos_embedding): OpenELMRotaryEmbedding(\tmodel_dim=128, max_seq_length=4096, freq_constant=10000)\n",
       "        (q_norm): OpenELMRMSNorm(num_features=128, eps=1e-06)\n",
       "        (k_norm): OpenELMRMSNorm(num_features=128, eps=1e-06)\n",
       "        (out_proj): Int4WeightOnlyKAILinear(in_features=2048, out_features=3072, bias=True\n",
       "      )\n",
       "      (ffn): OpenELMFeedForwardNetwork(\n",
       "        (ffn_with_glu) : True\n",
       "        (proj_1): Int4WeightOnlyKAILinear(in_features=3072, out_features=9216, bias=True\n",
       "        (proj_2): Int4WeightOnlyKAILinear(in_features=4608, out_features=3072, bias=True\n",
       "        (act): SiLU()\n",
       "      )\n",
       "      (ffn_norm): OpenELMRMSNorm(num_features=3072, eps=1e-06)\n",
       "      (attn_norm): OpenELMRMSNorm(num_features=3072, eps=1e-06)\n",
       "    )\n",
       "    (11): OpenELMDecoderLayer(\n",
       "      (attn): OpenELMMultiHeadCausalAttention(\n",
       "        query_heads=16, key_heads=4, value_heads=4\n",
       "        (qkv_proj): Int4WeightOnlyKAILinear(in_features=3072, out_features=3072, bias=True\n",
       "        (pos_embedding): OpenELMRotaryEmbedding(\tmodel_dim=128, max_seq_length=4096, freq_constant=10000)\n",
       "        (q_norm): OpenELMRMSNorm(num_features=128, eps=1e-06)\n",
       "        (k_norm): OpenELMRMSNorm(num_features=128, eps=1e-06)\n",
       "        (out_proj): Int4WeightOnlyKAILinear(in_features=2048, out_features=3072, bias=True\n",
       "      )\n",
       "      (ffn): OpenELMFeedForwardNetwork(\n",
       "        (ffn_with_glu) : True\n",
       "        (proj_1): Int4WeightOnlyKAILinear(in_features=3072, out_features=9728, bias=True\n",
       "        (proj_2): Int4WeightOnlyKAILinear(in_features=4864, out_features=3072, bias=True\n",
       "        (act): SiLU()\n",
       "      )\n",
       "      (ffn_norm): OpenELMRMSNorm(num_features=3072, eps=1e-06)\n",
       "      (attn_norm): OpenELMRMSNorm(num_features=3072, eps=1e-06)\n",
       "    )\n",
       "    (12): OpenELMDecoderLayer(\n",
       "      (attn): OpenELMMultiHeadCausalAttention(\n",
       "        query_heads=16, key_heads=4, value_heads=4\n",
       "        (qkv_proj): Int4WeightOnlyKAILinear(in_features=3072, out_features=3072, bias=True\n",
       "        (pos_embedding): OpenELMRotaryEmbedding(\tmodel_dim=128, max_seq_length=4096, freq_constant=10000)\n",
       "        (q_norm): OpenELMRMSNorm(num_features=128, eps=1e-06)\n",
       "        (k_norm): OpenELMRMSNorm(num_features=128, eps=1e-06)\n",
       "        (out_proj): Int4WeightOnlyKAILinear(in_features=2048, out_features=3072, bias=True\n",
       "      )\n",
       "      (ffn): OpenELMFeedForwardNetwork(\n",
       "        (ffn_with_glu) : True\n",
       "        (proj_1): Int4WeightOnlyKAILinear(in_features=3072, out_features=10240, bias=True\n",
       "        (proj_2): Int4WeightOnlyKAILinear(in_features=5120, out_features=3072, bias=True\n",
       "        (act): SiLU()\n",
       "      )\n",
       "      (ffn_norm): OpenELMRMSNorm(num_features=3072, eps=1e-06)\n",
       "      (attn_norm): OpenELMRMSNorm(num_features=3072, eps=1e-06)\n",
       "    )\n",
       "    (13): OpenELMDecoderLayer(\n",
       "      (attn): OpenELMMultiHeadCausalAttention(\n",
       "        query_heads=16, key_heads=4, value_heads=4\n",
       "        (qkv_proj): Int4WeightOnlyKAILinear(in_features=3072, out_features=3072, bias=True\n",
       "        (pos_embedding): OpenELMRotaryEmbedding(\tmodel_dim=128, max_seq_length=4096, freq_constant=10000)\n",
       "        (q_norm): OpenELMRMSNorm(num_features=128, eps=1e-06)\n",
       "        (k_norm): OpenELMRMSNorm(num_features=128, eps=1e-06)\n",
       "        (out_proj): Int4WeightOnlyKAILinear(in_features=2048, out_features=3072, bias=True\n",
       "      )\n",
       "      (ffn): OpenELMFeedForwardNetwork(\n",
       "        (ffn_with_glu) : True\n",
       "        (proj_1): Int4WeightOnlyKAILinear(in_features=3072, out_features=11264, bias=True\n",
       "        (proj_2): Int4WeightOnlyKAILinear(in_features=5632, out_features=3072, bias=True\n",
       "        (act): SiLU()\n",
       "      )\n",
       "      (ffn_norm): OpenELMRMSNorm(num_features=3072, eps=1e-06)\n",
       "      (attn_norm): OpenELMRMSNorm(num_features=3072, eps=1e-06)\n",
       "    )\n",
       "    (14): OpenELMDecoderLayer(\n",
       "      (attn): OpenELMMultiHeadCausalAttention(\n",
       "        query_heads=16, key_heads=4, value_heads=4\n",
       "        (qkv_proj): Int4WeightOnlyKAILinear(in_features=3072, out_features=3072, bias=True\n",
       "        (pos_embedding): OpenELMRotaryEmbedding(\tmodel_dim=128, max_seq_length=4096, freq_constant=10000)\n",
       "        (q_norm): OpenELMRMSNorm(num_features=128, eps=1e-06)\n",
       "        (k_norm): OpenELMRMSNorm(num_features=128, eps=1e-06)\n",
       "        (out_proj): Int4WeightOnlyKAILinear(in_features=2048, out_features=3072, bias=True\n",
       "      )\n",
       "      (ffn): OpenELMFeedForwardNetwork(\n",
       "        (ffn_with_glu) : True\n",
       "        (proj_1): Int4WeightOnlyKAILinear(in_features=3072, out_features=11776, bias=True\n",
       "        (proj_2): Int4WeightOnlyKAILinear(in_features=5888, out_features=3072, bias=True\n",
       "        (act): SiLU()\n",
       "      )\n",
       "      (ffn_norm): OpenELMRMSNorm(num_features=3072, eps=1e-06)\n",
       "      (attn_norm): OpenELMRMSNorm(num_features=3072, eps=1e-06)\n",
       "    )\n",
       "    (15): OpenELMDecoderLayer(\n",
       "      (attn): OpenELMMultiHeadCausalAttention(\n",
       "        query_heads=16, key_heads=4, value_heads=4\n",
       "        (qkv_proj): Int4WeightOnlyKAILinear(in_features=3072, out_features=3072, bias=True\n",
       "        (pos_embedding): OpenELMRotaryEmbedding(\tmodel_dim=128, max_seq_length=4096, freq_constant=10000)\n",
       "        (q_norm): OpenELMRMSNorm(num_features=128, eps=1e-06)\n",
       "        (k_norm): OpenELMRMSNorm(num_features=128, eps=1e-06)\n",
       "        (out_proj): Int4WeightOnlyKAILinear(in_features=2048, out_features=3072, bias=True\n",
       "      )\n",
       "      (ffn): OpenELMFeedForwardNetwork(\n",
       "        (ffn_with_glu) : True\n",
       "        (proj_1): Int4WeightOnlyKAILinear(in_features=3072, out_features=12288, bias=True\n",
       "        (proj_2): Int4WeightOnlyKAILinear(in_features=6144, out_features=3072, bias=True\n",
       "        (act): SiLU()\n",
       "      )\n",
       "      (ffn_norm): OpenELMRMSNorm(num_features=3072, eps=1e-06)\n",
       "      (attn_norm): OpenELMRMSNorm(num_features=3072, eps=1e-06)\n",
       "    )\n",
       "    (16): OpenELMDecoderLayer(\n",
       "      (attn): OpenELMMultiHeadCausalAttention(\n",
       "        query_heads=16, key_heads=4, value_heads=4\n",
       "        (qkv_proj): Int4WeightOnlyKAILinear(in_features=3072, out_features=3072, bias=True\n",
       "        (pos_embedding): OpenELMRotaryEmbedding(\tmodel_dim=128, max_seq_length=4096, freq_constant=10000)\n",
       "        (q_norm): OpenELMRMSNorm(num_features=128, eps=1e-06)\n",
       "        (k_norm): OpenELMRMSNorm(num_features=128, eps=1e-06)\n",
       "        (out_proj): Int4WeightOnlyKAILinear(in_features=2048, out_features=3072, bias=True\n",
       "      )\n",
       "      (ffn): OpenELMFeedForwardNetwork(\n",
       "        (ffn_with_glu) : True\n",
       "        (proj_1): Int4WeightOnlyKAILinear(in_features=3072, out_features=12800, bias=True\n",
       "        (proj_2): Int4WeightOnlyKAILinear(in_features=6400, out_features=3072, bias=True\n",
       "        (act): SiLU()\n",
       "      )\n",
       "      (ffn_norm): OpenELMRMSNorm(num_features=3072, eps=1e-06)\n",
       "      (attn_norm): OpenELMRMSNorm(num_features=3072, eps=1e-06)\n",
       "    )\n",
       "    (17): OpenELMDecoderLayer(\n",
       "      (attn): OpenELMMultiHeadCausalAttention(\n",
       "        query_heads=16, key_heads=4, value_heads=4\n",
       "        (qkv_proj): Int4WeightOnlyKAILinear(in_features=3072, out_features=3072, bias=True\n",
       "        (pos_embedding): OpenELMRotaryEmbedding(\tmodel_dim=128, max_seq_length=4096, freq_constant=10000)\n",
       "        (q_norm): OpenELMRMSNorm(num_features=128, eps=1e-06)\n",
       "        (k_norm): OpenELMRMSNorm(num_features=128, eps=1e-06)\n",
       "        (out_proj): Int4WeightOnlyKAILinear(in_features=2048, out_features=3072, bias=True\n",
       "      )\n",
       "      (ffn): OpenELMFeedForwardNetwork(\n",
       "        (ffn_with_glu) : True\n",
       "        (proj_1): Int4WeightOnlyKAILinear(in_features=3072, out_features=13312, bias=True\n",
       "        (proj_2): Int4WeightOnlyKAILinear(in_features=6656, out_features=3072, bias=True\n",
       "        (act): SiLU()\n",
       "      )\n",
       "      (ffn_norm): OpenELMRMSNorm(num_features=3072, eps=1e-06)\n",
       "      (attn_norm): OpenELMRMSNorm(num_features=3072, eps=1e-06)\n",
       "    )\n",
       "    (18): OpenELMDecoderLayer(\n",
       "      (attn): OpenELMMultiHeadCausalAttention(\n",
       "        query_heads=20, key_heads=5, value_heads=5\n",
       "        (qkv_proj): Int4WeightOnlyKAILinear(in_features=3072, out_features=3840, bias=True\n",
       "        (pos_embedding): OpenELMRotaryEmbedding(\tmodel_dim=128, max_seq_length=4096, freq_constant=10000)\n",
       "        (q_norm): OpenELMRMSNorm(num_features=128, eps=1e-06)\n",
       "        (k_norm): OpenELMRMSNorm(num_features=128, eps=1e-06)\n",
       "        (out_proj): Int4WeightOnlyKAILinear(in_features=2560, out_features=3072, bias=True\n",
       "      )\n",
       "      (ffn): OpenELMFeedForwardNetwork(\n",
       "        (ffn_with_glu) : True\n",
       "        (proj_1): Int4WeightOnlyKAILinear(in_features=3072, out_features=14336, bias=True\n",
       "        (proj_2): Int4WeightOnlyKAILinear(in_features=7168, out_features=3072, bias=True\n",
       "        (act): SiLU()\n",
       "      )\n",
       "      (ffn_norm): OpenELMRMSNorm(num_features=3072, eps=1e-06)\n",
       "      (attn_norm): OpenELMRMSNorm(num_features=3072, eps=1e-06)\n",
       "    )\n",
       "    (19): OpenELMDecoderLayer(\n",
       "      (attn): OpenELMMultiHeadCausalAttention(\n",
       "        query_heads=20, key_heads=5, value_heads=5\n",
       "        (qkv_proj): Int4WeightOnlyKAILinear(in_features=3072, out_features=3840, bias=True\n",
       "        (pos_embedding): OpenELMRotaryEmbedding(\tmodel_dim=128, max_seq_length=4096, freq_constant=10000)\n",
       "        (q_norm): OpenELMRMSNorm(num_features=128, eps=1e-06)\n",
       "        (k_norm): OpenELMRMSNorm(num_features=128, eps=1e-06)\n",
       "        (out_proj): Int4WeightOnlyKAILinear(in_features=2560, out_features=3072, bias=True\n",
       "      )\n",
       "      (ffn): OpenELMFeedForwardNetwork(\n",
       "        (ffn_with_glu) : True\n",
       "        (proj_1): Int4WeightOnlyKAILinear(in_features=3072, out_features=14848, bias=True\n",
       "        (proj_2): Int4WeightOnlyKAILinear(in_features=7424, out_features=3072, bias=True\n",
       "        (act): SiLU()\n",
       "      )\n",
       "      (ffn_norm): OpenELMRMSNorm(num_features=3072, eps=1e-06)\n",
       "      (attn_norm): OpenELMRMSNorm(num_features=3072, eps=1e-06)\n",
       "    )\n",
       "    (20): OpenELMDecoderLayer(\n",
       "      (attn): OpenELMMultiHeadCausalAttention(\n",
       "        query_heads=20, key_heads=5, value_heads=5\n",
       "        (qkv_proj): Int4WeightOnlyKAILinear(in_features=3072, out_features=3840, bias=True\n",
       "        (pos_embedding): OpenELMRotaryEmbedding(\tmodel_dim=128, max_seq_length=4096, freq_constant=10000)\n",
       "        (q_norm): OpenELMRMSNorm(num_features=128, eps=1e-06)\n",
       "        (k_norm): OpenELMRMSNorm(num_features=128, eps=1e-06)\n",
       "        (out_proj): Int4WeightOnlyKAILinear(in_features=2560, out_features=3072, bias=True\n",
       "      )\n",
       "      (ffn): OpenELMFeedForwardNetwork(\n",
       "        (ffn_with_glu) : True\n",
       "        (proj_1): Int4WeightOnlyKAILinear(in_features=3072, out_features=15360, bias=True\n",
       "        (proj_2): Int4WeightOnlyKAILinear(in_features=7680, out_features=3072, bias=True\n",
       "        (act): SiLU()\n",
       "      )\n",
       "      (ffn_norm): OpenELMRMSNorm(num_features=3072, eps=1e-06)\n",
       "      (attn_norm): OpenELMRMSNorm(num_features=3072, eps=1e-06)\n",
       "    )\n",
       "    (21): OpenELMDecoderLayer(\n",
       "      (attn): OpenELMMultiHeadCausalAttention(\n",
       "        query_heads=20, key_heads=5, value_heads=5\n",
       "        (qkv_proj): Int4WeightOnlyKAILinear(in_features=3072, out_features=3840, bias=True\n",
       "        (pos_embedding): OpenELMRotaryEmbedding(\tmodel_dim=128, max_seq_length=4096, freq_constant=10000)\n",
       "        (q_norm): OpenELMRMSNorm(num_features=128, eps=1e-06)\n",
       "        (k_norm): OpenELMRMSNorm(num_features=128, eps=1e-06)\n",
       "        (out_proj): Int4WeightOnlyKAILinear(in_features=2560, out_features=3072, bias=True\n",
       "      )\n",
       "      (ffn): OpenELMFeedForwardNetwork(\n",
       "        (ffn_with_glu) : True\n",
       "        (proj_1): Int4WeightOnlyKAILinear(in_features=3072, out_features=15872, bias=True\n",
       "        (proj_2): Int4WeightOnlyKAILinear(in_features=7936, out_features=3072, bias=True\n",
       "        (act): SiLU()\n",
       "      )\n",
       "      (ffn_norm): OpenELMRMSNorm(num_features=3072, eps=1e-06)\n",
       "      (attn_norm): OpenELMRMSNorm(num_features=3072, eps=1e-06)\n",
       "    )\n",
       "    (22): OpenELMDecoderLayer(\n",
       "      (attn): OpenELMMultiHeadCausalAttention(\n",
       "        query_heads=20, key_heads=5, value_heads=5\n",
       "        (qkv_proj): Int4WeightOnlyKAILinear(in_features=3072, out_features=3840, bias=True\n",
       "        (pos_embedding): OpenELMRotaryEmbedding(\tmodel_dim=128, max_seq_length=4096, freq_constant=10000)\n",
       "        (q_norm): OpenELMRMSNorm(num_features=128, eps=1e-06)\n",
       "        (k_norm): OpenELMRMSNorm(num_features=128, eps=1e-06)\n",
       "        (out_proj): Int4WeightOnlyKAILinear(in_features=2560, out_features=3072, bias=True\n",
       "      )\n",
       "      (ffn): OpenELMFeedForwardNetwork(\n",
       "        (ffn_with_glu) : True\n",
       "        (proj_1): Int4WeightOnlyKAILinear(in_features=3072, out_features=16384, bias=True\n",
       "        (proj_2): Int4WeightOnlyKAILinear(in_features=8192, out_features=3072, bias=True\n",
       "        (act): SiLU()\n",
       "      )\n",
       "      (ffn_norm): OpenELMRMSNorm(num_features=3072, eps=1e-06)\n",
       "      (attn_norm): OpenELMRMSNorm(num_features=3072, eps=1e-06)\n",
       "    )\n",
       "    (23): OpenELMDecoderLayer(\n",
       "      (attn): OpenELMMultiHeadCausalAttention(\n",
       "        query_heads=20, key_heads=5, value_heads=5\n",
       "        (qkv_proj): Int4WeightOnlyKAILinear(in_features=3072, out_features=3840, bias=True\n",
       "        (pos_embedding): OpenELMRotaryEmbedding(\tmodel_dim=128, max_seq_length=4096, freq_constant=10000)\n",
       "        (q_norm): OpenELMRMSNorm(num_features=128, eps=1e-06)\n",
       "        (k_norm): OpenELMRMSNorm(num_features=128, eps=1e-06)\n",
       "        (out_proj): Int4WeightOnlyKAILinear(in_features=2560, out_features=3072, bias=True\n",
       "      )\n",
       "      (ffn): OpenELMFeedForwardNetwork(\n",
       "        (ffn_with_glu) : True\n",
       "        (proj_1): Int4WeightOnlyKAILinear(in_features=3072, out_features=17408, bias=True\n",
       "        (proj_2): Int4WeightOnlyKAILinear(in_features=8704, out_features=3072, bias=True\n",
       "        (act): SiLU()\n",
       "      )\n",
       "      (ffn_norm): OpenELMRMSNorm(num_features=3072, eps=1e-06)\n",
       "      (attn_norm): OpenELMRMSNorm(num_features=3072, eps=1e-06)\n",
       "    )\n",
       "    (24): OpenELMDecoderLayer(\n",
       "      (attn): OpenELMMultiHeadCausalAttention(\n",
       "        query_heads=20, key_heads=5, value_heads=5\n",
       "        (qkv_proj): Int4WeightOnlyKAILinear(in_features=3072, out_features=3840, bias=True\n",
       "        (pos_embedding): OpenELMRotaryEmbedding(\tmodel_dim=128, max_seq_length=4096, freq_constant=10000)\n",
       "        (q_norm): OpenELMRMSNorm(num_features=128, eps=1e-06)\n",
       "        (k_norm): OpenELMRMSNorm(num_features=128, eps=1e-06)\n",
       "        (out_proj): Int4WeightOnlyKAILinear(in_features=2560, out_features=3072, bias=True\n",
       "      )\n",
       "      (ffn): OpenELMFeedForwardNetwork(\n",
       "        (ffn_with_glu) : True\n",
       "        (proj_1): Int4WeightOnlyKAILinear(in_features=3072, out_features=17920, bias=True\n",
       "        (proj_2): Int4WeightOnlyKAILinear(in_features=8960, out_features=3072, bias=True\n",
       "        (act): SiLU()\n",
       "      )\n",
       "      (ffn_norm): OpenELMRMSNorm(num_features=3072, eps=1e-06)\n",
       "      (attn_norm): OpenELMRMSNorm(num_features=3072, eps=1e-06)\n",
       "    )\n",
       "    (25): OpenELMDecoderLayer(\n",
       "      (attn): OpenELMMultiHeadCausalAttention(\n",
       "        query_heads=20, key_heads=5, value_heads=5\n",
       "        (qkv_proj): Int4WeightOnlyKAILinear(in_features=3072, out_features=3840, bias=True\n",
       "        (pos_embedding): OpenELMRotaryEmbedding(\tmodel_dim=128, max_seq_length=4096, freq_constant=10000)\n",
       "        (q_norm): OpenELMRMSNorm(num_features=128, eps=1e-06)\n",
       "        (k_norm): OpenELMRMSNorm(num_features=128, eps=1e-06)\n",
       "        (out_proj): Int4WeightOnlyKAILinear(in_features=2560, out_features=3072, bias=True\n",
       "      )\n",
       "      (ffn): OpenELMFeedForwardNetwork(\n",
       "        (ffn_with_glu) : True\n",
       "        (proj_1): Int4WeightOnlyKAILinear(in_features=3072, out_features=18432, bias=True\n",
       "        (proj_2): Int4WeightOnlyKAILinear(in_features=9216, out_features=3072, bias=True\n",
       "        (act): SiLU()\n",
       "      )\n",
       "      (ffn_norm): OpenELMRMSNorm(num_features=3072, eps=1e-06)\n",
       "      (attn_norm): OpenELMRMSNorm(num_features=3072, eps=1e-06)\n",
       "    )\n",
       "    (26): OpenELMDecoderLayer(\n",
       "      (attn): OpenELMMultiHeadCausalAttention(\n",
       "        query_heads=20, key_heads=5, value_heads=5\n",
       "        (qkv_proj): Int4WeightOnlyKAILinear(in_features=3072, out_features=3840, bias=True\n",
       "        (pos_embedding): OpenELMRotaryEmbedding(\tmodel_dim=128, max_seq_length=4096, freq_constant=10000)\n",
       "        (q_norm): OpenELMRMSNorm(num_features=128, eps=1e-06)\n",
       "        (k_norm): OpenELMRMSNorm(num_features=128, eps=1e-06)\n",
       "        (out_proj): Int4WeightOnlyKAILinear(in_features=2560, out_features=3072, bias=True\n",
       "      )\n",
       "      (ffn): OpenELMFeedForwardNetwork(\n",
       "        (ffn_with_glu) : True\n",
       "        (proj_1): Int4WeightOnlyKAILinear(in_features=3072, out_features=18944, bias=True\n",
       "        (proj_2): Int4WeightOnlyKAILinear(in_features=9472, out_features=3072, bias=True\n",
       "        (act): SiLU()\n",
       "      )\n",
       "      (ffn_norm): OpenELMRMSNorm(num_features=3072, eps=1e-06)\n",
       "      (attn_norm): OpenELMRMSNorm(num_features=3072, eps=1e-06)\n",
       "    )\n",
       "    (27): OpenELMDecoderLayer(\n",
       "      (attn): OpenELMMultiHeadCausalAttention(\n",
       "        query_heads=20, key_heads=5, value_heads=5\n",
       "        (qkv_proj): Int4WeightOnlyKAILinear(in_features=3072, out_features=3840, bias=True\n",
       "        (pos_embedding): OpenELMRotaryEmbedding(\tmodel_dim=128, max_seq_length=4096, freq_constant=10000)\n",
       "        (q_norm): OpenELMRMSNorm(num_features=128, eps=1e-06)\n",
       "        (k_norm): OpenELMRMSNorm(num_features=128, eps=1e-06)\n",
       "        (out_proj): Int4WeightOnlyKAILinear(in_features=2560, out_features=3072, bias=True\n",
       "      )\n",
       "      (ffn): OpenELMFeedForwardNetwork(\n",
       "        (ffn_with_glu) : True\n",
       "        (proj_1): Int4WeightOnlyKAILinear(in_features=3072, out_features=19456, bias=True\n",
       "        (proj_2): Int4WeightOnlyKAILinear(in_features=9728, out_features=3072, bias=True\n",
       "        (act): SiLU()\n",
       "      )\n",
       "      (ffn_norm): OpenELMRMSNorm(num_features=3072, eps=1e-06)\n",
       "      (attn_norm): OpenELMRMSNorm(num_features=3072, eps=1e-06)\n",
       "    )\n",
       "    (28): OpenELMDecoderLayer(\n",
       "      (attn): OpenELMMultiHeadCausalAttention(\n",
       "        query_heads=20, key_heads=5, value_heads=5\n",
       "        (qkv_proj): Int4WeightOnlyKAILinear(in_features=3072, out_features=3840, bias=True\n",
       "        (pos_embedding): OpenELMRotaryEmbedding(\tmodel_dim=128, max_seq_length=4096, freq_constant=10000)\n",
       "        (q_norm): OpenELMRMSNorm(num_features=128, eps=1e-06)\n",
       "        (k_norm): OpenELMRMSNorm(num_features=128, eps=1e-06)\n",
       "        (out_proj): Int4WeightOnlyKAILinear(in_features=2560, out_features=3072, bias=True\n",
       "      )\n",
       "      (ffn): OpenELMFeedForwardNetwork(\n",
       "        (ffn_with_glu) : True\n",
       "        (proj_1): Int4WeightOnlyKAILinear(in_features=3072, out_features=20480, bias=True\n",
       "        (proj_2): Int4WeightOnlyKAILinear(in_features=10240, out_features=3072, bias=True\n",
       "        (act): SiLU()\n",
       "      )\n",
       "      (ffn_norm): OpenELMRMSNorm(num_features=3072, eps=1e-06)\n",
       "      (attn_norm): OpenELMRMSNorm(num_features=3072, eps=1e-06)\n",
       "    )\n",
       "    (29): OpenELMDecoderLayer(\n",
       "      (attn): OpenELMMultiHeadCausalAttention(\n",
       "        query_heads=20, key_heads=5, value_heads=5\n",
       "        (qkv_proj): Int4WeightOnlyKAILinear(in_features=3072, out_features=3840, bias=True\n",
       "        (pos_embedding): OpenELMRotaryEmbedding(\tmodel_dim=128, max_seq_length=4096, freq_constant=10000)\n",
       "        (q_norm): OpenELMRMSNorm(num_features=128, eps=1e-06)\n",
       "        (k_norm): OpenELMRMSNorm(num_features=128, eps=1e-06)\n",
       "        (out_proj): Int4WeightOnlyKAILinear(in_features=2560, out_features=3072, bias=True\n",
       "      )\n",
       "      (ffn): OpenELMFeedForwardNetwork(\n",
       "        (ffn_with_glu) : True\n",
       "        (proj_1): Int4WeightOnlyKAILinear(in_features=3072, out_features=20992, bias=True\n",
       "        (proj_2): Int4WeightOnlyKAILinear(in_features=10496, out_features=3072, bias=True\n",
       "        (act): SiLU()\n",
       "      )\n",
       "      (ffn_norm): OpenELMRMSNorm(num_features=3072, eps=1e-06)\n",
       "      (attn_norm): OpenELMRMSNorm(num_features=3072, eps=1e-06)\n",
       "    )\n",
       "    (30): OpenELMDecoderLayer(\n",
       "      (attn): OpenELMMultiHeadCausalAttention(\n",
       "        query_heads=24, key_heads=6, value_heads=6\n",
       "        (qkv_proj): Int4WeightOnlyKAILinear(in_features=3072, out_features=4608, bias=True\n",
       "        (pos_embedding): OpenELMRotaryEmbedding(\tmodel_dim=128, max_seq_length=4096, freq_constant=10000)\n",
       "        (q_norm): OpenELMRMSNorm(num_features=128, eps=1e-06)\n",
       "        (k_norm): OpenELMRMSNorm(num_features=128, eps=1e-06)\n",
       "        (out_proj): Int4WeightOnlyKAILinear(in_features=3072, out_features=3072, bias=True\n",
       "      )\n",
       "      (ffn): OpenELMFeedForwardNetwork(\n",
       "        (ffn_with_glu) : True\n",
       "        (proj_1): Int4WeightOnlyKAILinear(in_features=3072, out_features=21504, bias=True\n",
       "        (proj_2): Int4WeightOnlyKAILinear(in_features=10752, out_features=3072, bias=True\n",
       "        (act): SiLU()\n",
       "      )\n",
       "      (ffn_norm): OpenELMRMSNorm(num_features=3072, eps=1e-06)\n",
       "      (attn_norm): OpenELMRMSNorm(num_features=3072, eps=1e-06)\n",
       "    )\n",
       "    (31): OpenELMDecoderLayer(\n",
       "      (attn): OpenELMMultiHeadCausalAttention(\n",
       "        query_heads=24, key_heads=6, value_heads=6\n",
       "        (qkv_proj): Int4WeightOnlyKAILinear(in_features=3072, out_features=4608, bias=True\n",
       "        (pos_embedding): OpenELMRotaryEmbedding(\tmodel_dim=128, max_seq_length=4096, freq_constant=10000)\n",
       "        (q_norm): OpenELMRMSNorm(num_features=128, eps=1e-06)\n",
       "        (k_norm): OpenELMRMSNorm(num_features=128, eps=1e-06)\n",
       "        (out_proj): Int4WeightOnlyKAILinear(in_features=3072, out_features=3072, bias=True\n",
       "      )\n",
       "      (ffn): OpenELMFeedForwardNetwork(\n",
       "        (ffn_with_glu) : True\n",
       "        (proj_1): Int4WeightOnlyKAILinear(in_features=3072, out_features=22016, bias=True\n",
       "        (proj_2): Int4WeightOnlyKAILinear(in_features=11008, out_features=3072, bias=True\n",
       "        (act): SiLU()\n",
       "      )\n",
       "      (ffn_norm): OpenELMRMSNorm(num_features=3072, eps=1e-06)\n",
       "      (attn_norm): OpenELMRMSNorm(num_features=3072, eps=1e-06)\n",
       "    )\n",
       "    (32): OpenELMDecoderLayer(\n",
       "      (attn): OpenELMMultiHeadCausalAttention(\n",
       "        query_heads=24, key_heads=6, value_heads=6\n",
       "        (qkv_proj): Int4WeightOnlyKAILinear(in_features=3072, out_features=4608, bias=True\n",
       "        (pos_embedding): OpenELMRotaryEmbedding(\tmodel_dim=128, max_seq_length=4096, freq_constant=10000)\n",
       "        (q_norm): OpenELMRMSNorm(num_features=128, eps=1e-06)\n",
       "        (k_norm): OpenELMRMSNorm(num_features=128, eps=1e-06)\n",
       "        (out_proj): Int4WeightOnlyKAILinear(in_features=3072, out_features=3072, bias=True\n",
       "      )\n",
       "      (ffn): OpenELMFeedForwardNetwork(\n",
       "        (ffn_with_glu) : True\n",
       "        (proj_1): Int4WeightOnlyKAILinear(in_features=3072, out_features=22528, bias=True\n",
       "        (proj_2): Int4WeightOnlyKAILinear(in_features=11264, out_features=3072, bias=True\n",
       "        (act): SiLU()\n",
       "      )\n",
       "      (ffn_norm): OpenELMRMSNorm(num_features=3072, eps=1e-06)\n",
       "      (attn_norm): OpenELMRMSNorm(num_features=3072, eps=1e-06)\n",
       "    )\n",
       "    (33): OpenELMDecoderLayer(\n",
       "      (attn): OpenELMMultiHeadCausalAttention(\n",
       "        query_heads=24, key_heads=6, value_heads=6\n",
       "        (qkv_proj): Int4WeightOnlyKAILinear(in_features=3072, out_features=4608, bias=True\n",
       "        (pos_embedding): OpenELMRotaryEmbedding(\tmodel_dim=128, max_seq_length=4096, freq_constant=10000)\n",
       "        (q_norm): OpenELMRMSNorm(num_features=128, eps=1e-06)\n",
       "        (k_norm): OpenELMRMSNorm(num_features=128, eps=1e-06)\n",
       "        (out_proj): Int4WeightOnlyKAILinear(in_features=3072, out_features=3072, bias=True\n",
       "      )\n",
       "      (ffn): OpenELMFeedForwardNetwork(\n",
       "        (ffn_with_glu) : True\n",
       "        (proj_1): Int4WeightOnlyKAILinear(in_features=3072, out_features=23552, bias=True\n",
       "        (proj_2): Int4WeightOnlyKAILinear(in_features=11776, out_features=3072, bias=True\n",
       "        (act): SiLU()\n",
       "      )\n",
       "      (ffn_norm): OpenELMRMSNorm(num_features=3072, eps=1e-06)\n",
       "      (attn_norm): OpenELMRMSNorm(num_features=3072, eps=1e-06)\n",
       "    )\n",
       "    (34): OpenELMDecoderLayer(\n",
       "      (attn): OpenELMMultiHeadCausalAttention(\n",
       "        query_heads=24, key_heads=6, value_heads=6\n",
       "        (qkv_proj): Int4WeightOnlyKAILinear(in_features=3072, out_features=4608, bias=True\n",
       "        (pos_embedding): OpenELMRotaryEmbedding(\tmodel_dim=128, max_seq_length=4096, freq_constant=10000)\n",
       "        (q_norm): OpenELMRMSNorm(num_features=128, eps=1e-06)\n",
       "        (k_norm): OpenELMRMSNorm(num_features=128, eps=1e-06)\n",
       "        (out_proj): Int4WeightOnlyKAILinear(in_features=3072, out_features=3072, bias=True\n",
       "      )\n",
       "      (ffn): OpenELMFeedForwardNetwork(\n",
       "        (ffn_with_glu) : True\n",
       "        (proj_1): Int4WeightOnlyKAILinear(in_features=3072, out_features=24064, bias=True\n",
       "        (proj_2): Int4WeightOnlyKAILinear(in_features=12032, out_features=3072, bias=True\n",
       "        (act): SiLU()\n",
       "      )\n",
       "      (ffn_norm): OpenELMRMSNorm(num_features=3072, eps=1e-06)\n",
       "      (attn_norm): OpenELMRMSNorm(num_features=3072, eps=1e-06)\n",
       "    )\n",
       "    (35): OpenELMDecoderLayer(\n",
       "      (attn): OpenELMMultiHeadCausalAttention(\n",
       "        query_heads=24, key_heads=6, value_heads=6\n",
       "        (qkv_proj): Int4WeightOnlyKAILinear(in_features=3072, out_features=4608, bias=True\n",
       "        (pos_embedding): OpenELMRotaryEmbedding(\tmodel_dim=128, max_seq_length=4096, freq_constant=10000)\n",
       "        (q_norm): OpenELMRMSNorm(num_features=128, eps=1e-06)\n",
       "        (k_norm): OpenELMRMSNorm(num_features=128, eps=1e-06)\n",
       "        (out_proj): Int4WeightOnlyKAILinear(in_features=3072, out_features=3072, bias=True\n",
       "      )\n",
       "      (ffn): OpenELMFeedForwardNetwork(\n",
       "        (ffn_with_glu) : True\n",
       "        (proj_1): Int4WeightOnlyKAILinear(in_features=3072, out_features=24576, bias=True\n",
       "        (proj_2): Int4WeightOnlyKAILinear(in_features=12288, out_features=3072, bias=True\n",
       "        (act): SiLU()\n",
       "      )\n",
       "      (ffn_norm): OpenELMRMSNorm(num_features=3072, eps=1e-06)\n",
       "      (attn_norm): OpenELMRMSNorm(num_features=3072, eps=1e-06)\n",
       "    )\n",
       "  )\n",
       "  (norm): OpenELMRMSNorm(num_features=3072, eps=1e-06)\n",
       ")"
      ]
     },
     "execution_count": 51,
     "metadata": {},
     "output_type": "execute_result"
    }
   ],
   "source": [
    "quantize_model(model.transformer)"
   ]
  },
  {
   "cell_type": "markdown",
   "metadata": {},
   "source": [
    "You should see instances of the In4WeightOnlyKaiLinear layers. "
   ]
  },
  {
   "cell_type": "code",
   "execution_count": 52,
   "metadata": {},
   "outputs": [
    {
     "name": "stdout",
     "output_type": "stream",
     "text": [
      "Quantized memory consumption: 1.9 GB\n"
     ]
    }
   ],
   "source": [
    "import torch\n",
    "\n",
    "quantized_memory_consumption = 0  # Memory in bytes\n",
    "for param in model.parameters():  # Use model.named_parameters() to iterate over model parameters\n",
    "    quantized_memory_consumption += param.numel() * param.element_size()\n",
    "\n",
    "# Sum memory of all buffers\n",
    "for name, buffer in model.named_buffers():\n",
    "    quantized_memory_consumption += buffer.numel() * buffer.element_size()\n",
    "\n",
    "# Convert to megabytes (MB)\n",
    "quantized_memory_consumption_gb = quantized_memory_consumption / (1024**3)\n",
    "\n",
    "print(f\"Quantized memory consumption: {quantized_memory_consumption_gb:.1f} GB\")"
   ]
  },
  {
   "cell_type": "markdown",
   "metadata": {},
   "source": [
    "Your output should show that the quantized memory consumption is just **1.9GB** as opposed to over **11.3GB**, showing a ***6x improvement in static model memory consumption***. This makes the model much more suitable for deploying on low-powered devices such as mobile. \n",
    "\n",
    "Now let's see the impact latency of using specific acceleration features of Arm Neoverse with the KleidiAI operator kernels. "
   ]
  },
  {
   "cell_type": "code",
   "execution_count": 53,
   "metadata": {},
   "outputs": [
    {
     "name": "stdout",
     "output_type": "stream",
     "text": [
      "Time taken: 2.81 Seconds\n"
     ]
    }
   ],
   "source": [
    "import time\n",
    "\n",
    "quantized_latency = 0\n",
    "for _ in range(3):\n",
    "    st = time.time()\n",
    "    model.generate(inputs[\"input_ids\"], attention_mask=inputs[\"attention_mask\"], pad_token_id=tokenizer.pad_token_id, max_length=100)\n",
    "    et = time.time()\n",
    "    quantized_latency += (et - st) \n",
    "quantized_latency /= 3\n",
    "\n",
    "print(f\"Time taken: {quantized_latency:.2f} Seconds\")"
   ]
  },
  {
   "cell_type": "markdown",
   "metadata": {},
   "source": [
    "Your output should produce a quantized model latency of around **3.5 Seconds** which is over **60%** faster than the **11 seconds** latency of the full-precision model and hence will have a significant impact on user experience. We should however also check that with the use of 4-bit quantization that the empirical model performance has not dropped too far due to the quantization noise. Let's have a look at the output generation. "
   ]
  },
  {
   "cell_type": "code",
   "execution_count": 54,
   "metadata": {},
   "outputs": [
    {
     "data": {
      "application/vnd.jupyter.widget-view+json": {
       "model_id": "a7b009ff15e546be9d990c9fc00437ed",
       "version_major": 2,
       "version_minor": 0
      },
      "text/plain": [
       "Textarea(value='Quantization is the process of reducing the precision or/and activations in order to reduce th…"
      ]
     },
     "metadata": {},
     "output_type": "display_data"
    }
   ],
   "source": [
    "import ipywidgets as widgets\n",
    "\n",
    "if tokenizer.pad_token is None:\n",
    "    tokenizer.pad_token = tokenizer.eos_token\n",
    "\n",
    "generated_ids = model.generate(inputs[\"input_ids\"], attention_mask=inputs[\"attention_mask\"], pad_token_id=tokenizer.pad_token_id, eos_token_id=tokenizer.eos_token_id, max_length=100)\n",
    "\n",
    "generated_text_4bit = tokenizer.decode(generated_ids[0], skip_special_tokens=True)\n",
    "text_area = widgets.Textarea(value=generated_text_4bit, rows=10, layout=widgets.Layout(width=\"100%\"))\n",
    "display(text_area)"
   ]
  },
  {
   "cell_type": "markdown",
   "metadata": {},
   "source": [
    "You will notice that the output is different, this is due to the small changes in activations produced by the low bit quantization of the weights. It is still gramatically correct. "
   ]
  },
  {
   "cell_type": "markdown",
   "metadata": {},
   "source": [
    "# **Summary**\n",
    "\n",
    "In this lab, you explored how advanced Arm intrinsics can accelerate generative AI workloads by efficiently vectorizing core operations such as matrix multiplication on Arm Neoverse processors. You gained hands-on experience working with:\n",
    "\n",
    "- **NEON** and for SIMD parallel acceleration.\n",
    "- **DotProd** for dot product acceleration.\n",
    "- **I8MM** for efficient integer matrix multiplication.\n",
    "\n",
    "Through the **KleidiAI** library, you implemented and benchmarked optimized microkernels, comparing their performance with the industry-standard **BLAS** library. You further integrated these custom kernels into **PyTorch**, enabling quantized matrix multiplication and evaluating performance improvements using **4-bit quantization**.\n",
    "\n",
    "By applying **groupwise int4 quantization** to the **OpenELM-3B** model, you observed significant reductions in memory usage and latency **(60% latency and 80% in memory)**, demonstrating how Arm Neoverse processors can handle generative AI workloads efficiently. This hands-on approach has equipped you with the skills to leverage Arm-specific optimizations, providing a solid foundation for deploying high-performance AI models on Arm-based servers.\n",
    "\n",
    "With these insights, you are now better prepared to optimize AI applications for a variety of **resource-constrained** and **server-class Arm environments**, pushing the boundaries of efficient AI inference."
   ]
  },
  {
   "cell_type": "markdown",
   "metadata": {},
   "source": [
    "# SOLUTIONS "
   ]
  },
  {
   "cell_type": "code",
   "execution_count": 42,
   "metadata": {},
   "outputs": [],
   "source": [
    "class Int4WeightOnlyKAILinear(nn.Module):\n",
    "    def __init__(self, in_features, out_features, bias=True, groupsize=32): \n",
    "        super().__init__()\n",
    "        self.in_features = in_features\n",
    "        self.out_features = out_features\n",
    "        self.bias = bias \n",
    "\n",
    "        n_weights = (in_features * out_features)//2 \n",
    "        n_scales = ((in_features * out_features)//groupsize) * 2 \n",
    "        n_bias = out_features * 2 if self.bias else 0 \n",
    "        self.register_buffer(\n",
    "            \"weight\",\n",
    "            torch.empty((n_weights + n_scales + n_bias), dtype=torch.uint8)\n",
    "        )\n",
    "        self.groupsize = groupsize\n",
    "\n",
    "    def forward(self, x):\n",
    "        original_shape = x.shape\n",
    "        # Reshape to 2D: [batch * seq_len, in_features]\n",
    "        x_2d = x.view(-1, self.in_features)\n",
    "        \n",
    "        # =========== Your code goes here ============\n",
    "        out = linear_forward_int4_symmetric_groupwise(x_2d, self.weight, self.groupsize, self.in_features, self.out_features)\n",
    "        # ============================================\n",
    "        \n",
    "        output_shape = original_shape[:-1] + (self.out_features,)\n",
    "        out = out.view(output_shape)\n",
    "        return out\n",
    "\n",
    "    def __repr__(self): \n",
    "        return f\"Int4WeightOnlyKAILinear(in_features={self.in_features}, out_features={self.out_features}, bias={self.bias is not None}\""
   ]
  },
  {
   "cell_type": "code",
   "execution_count": null,
   "metadata": {},
   "outputs": [],
   "source": []
  },
  {
   "cell_type": "code",
   "execution_count": null,
   "metadata": {},
   "outputs": [],
   "source": []
  },
  {
   "cell_type": "code",
   "execution_count": null,
   "metadata": {},
   "outputs": [],
   "source": []
  }
 ],
 "metadata": {
  "kernelspec": {
   "display_name": "Python 3 (ipykernel)",
   "language": "python",
   "name": "python3"
  },
  "language_info": {
   "codemirror_mode": {
    "name": "ipython",
    "version": 3
   },
   "file_extension": ".py",
   "mimetype": "text/x-python",
   "name": "python",
   "nbconvert_exporter": "python",
   "pygments_lexer": "ipython3",
   "version": "3.12.11"
  }
 },
 "nbformat": 4,
 "nbformat_minor": 4
}
